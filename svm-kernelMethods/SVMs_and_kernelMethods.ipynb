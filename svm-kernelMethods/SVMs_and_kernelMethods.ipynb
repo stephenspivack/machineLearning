{
 "cells": [
  {
   "cell_type": "markdown",
   "id": "98eda95f",
   "metadata": {},
   "source": [
    "NYU Center for Data Science\n",
    "\n",
    "DS-GA 1003 Machine Learning\n",
    "\n",
    "HW3 - SVMs & Kernel methods\n",
    "\n",
    "Stephen Spivack (ss7726@nyu.edu)"
   ]
  },
  {
   "cell_type": "code",
   "execution_count": 151,
   "id": "b2d23e8f",
   "metadata": {},
   "outputs": [],
   "source": [
    "import os\n",
    "import time\n",
    "import random\n",
    "import numpy as np\n",
    "import pandas as pd\n",
    "import itertools\n",
    "import functools\n",
    "from collections import Counter\n",
    "from sklearn.model_selection import train_test_split\n",
    "from sklearn.model_selection import GridSearchCV,PredefinedSplit, ParameterGrid\n",
    "from sklearn.base import BaseEstimator, RegressorMixin, ClassifierMixin\n",
    "from sklearn.metrics import mean_squared_error,make_scorer\n",
    "import scipy.spatial\n",
    "import matplotlib.pyplot as plt\n",
    "import seaborn as sns\n",
    "sns.set()"
   ]
  },
  {
   "cell_type": "markdown",
   "id": "fecbce61",
   "metadata": {},
   "source": [
    "### 1. Support Vector Machines: SVMs with Pegasos"
   ]
  },
  {
   "cell_type": "markdown",
   "id": "2755fae8",
   "metadata": {},
   "source": [
    "#### Subgradients"
   ]
  },
  {
   "cell_type": "markdown",
   "id": "8e2891ff",
   "metadata": {},
   "source": [
    "1) Suppose $f_1, ..., f_m:\\mathbb{R}^d \\rightarrow  \\mathbb{R}$ are convex functions, and $f(x) = max_{i=1,...,m} f_i (x)$. Let $k$ be any index for which $f_k(x)$, and choose $g \\in \\partial f_k(x)$ (a convex function on $\\mathbb{R}^d$ has a non-empty subdifferential at all points). Show that $g \\in \\partial f(x)$."
   ]
  },
  {
   "cell_type": "markdown",
   "id": "5472e5de",
   "metadata": {},
   "source": [
    "A vector $g \\in \\mathbb{R}^d$ is a subgradient of a convex function $f: \\mathbb{R}^d \\rightarrow \\mathbb{R}$ at $x$ if for all $z$, $f(z) \\geq f(x) + g^T(z-x)$.\n",
    "\n",
    "From here we can say that $f(x) = max_{i=1,...,m} f_i(x)$ implies that $f(z) \\geq f(x) + g^T(z-x)  = f(x) + g^T(z-x)$.\n",
    "\n",
    "Therefore, $g \\in \\partial f(x)$."
   ]
  },
  {
   "cell_type": "markdown",
   "id": "bb0527a0",
   "metadata": {},
   "source": [
    "2) Give a subgradient of the hinge objective $J(w) = max\\{0, 1 - yw^Tx\\}$."
   ]
  },
  {
   "cell_type": "markdown",
   "id": "d1e6dbf4",
   "metadata": {},
   "source": [
    "$\\partial J(w) = 0$ if $yw^Tx \\geq 1$\n",
    "\n",
    "$\\partial J(w) = -yx$ if $yw^Tx < 1$"
   ]
  },
  {
   "cell_type": "markdown",
   "id": "8bc60f2e",
   "metadata": {},
   "source": [
    "3) Suppose we have a function $f: \\mathbb{R}^n \\rightarrow \\mathbb{R}$ which is sub-differentiable everywhere, i.e. $\\partial f \\neq \\emptyset$ for all $x \\in \\mathbb{R}^n$. Show that $f$ is convex. In general, a function is convex if for all $x,y$ in the domain of $f$ and for all $\\theta \\in (0,1)$, \n",
    "\n",
    "$\\theta f(a) + (1 - \\theta) f(b) \\geq f(\\theta a + (1-\\theta)(b))$"
   ]
  },
  {
   "cell_type": "code",
   "execution_count": 2,
   "id": "88d2ac94",
   "metadata": {},
   "outputs": [],
   "source": [
    "# XC - TODO"
   ]
  },
  {
   "cell_type": "markdown",
   "id": "02896238",
   "metadata": {},
   "source": [
    "#### SVM with the Pegasos algorithm"
   ]
  },
  {
   "cell_type": "markdown",
   "id": "6b7a7f2a",
   "metadata": {},
   "source": [
    "4) Consider the SVM objective function for a single training point: $J_i(w) = \\frac{\\lambda}{2} ||w||^2 + max\\{0, 1-y_i w^T x_i \\}$. The function $J_i(w)$ is not differentiable everywhere. Specify where the gradient of $J_i(w)$ is not defined. Give an expression for the gradient where it is defined."
   ]
  },
  {
   "cell_type": "markdown",
   "id": "1ac1623e",
   "metadata": {},
   "source": [
    "$\\nabla J_i(w) = \\lambda w - y_i x_i$, for $y_i w^T x_i < 1$.\n",
    "\n",
    "$\\nabla J_i(w) = \\lambda w$, for $y_i w^T x_i > 1$.\n",
    "\n",
    "If $y_i w^T x_i = 1$, then $\\nabla J_i(w)$ is not defined."
   ]
  },
  {
   "cell_type": "markdown",
   "id": "f9d4f1d7",
   "metadata": {},
   "source": [
    "5) Show that a subgradient of $J_i(w)$ is given by\n",
    "\n",
    "$gw = \\lambda w - y_i x_i$, for $y_i w^T x_i < 1$\n",
    "\n",
    "$gw = \\lambda w$, for $y_i w^T x_i \\geq 1$"
   ]
  },
  {
   "cell_type": "markdown",
   "id": "ec236edf",
   "metadata": {},
   "source": [
    "First, we show that $J_i(w)$ is convex:\n",
    "\n",
    "$J_i(w) = \\frac{\\lambda}{2} ||w||_2^2 + max(0, 1 - y_i w^T x_i)$\n",
    "\n",
    "The first term is convex as $\\frac{\\partial}{\\partial w} \\frac{\\lambda}{2} ||w||_2^2 = \\lambda$.\n",
    "\n",
    "The second term is also convex as $\\frac{\\partial^2}{\\partial^2 w}0=0$ and $\\frac{\\partial^2}{\\partial^2 w}(1 - y_i w^T x_i) = 0$.\n",
    "\n",
    "Next, if we evaluate $y_i w^T x_i = 1$,\n",
    "\n",
    "$J_i(w+v) = \\frac{\\lambda}{2} ||w+v||^2 + max(0, 1 - y_i(w+v)^T x_i)$\n",
    "\n",
    "$=\\frac{\\lambda}{2} (||w||^2 + 2w^Tv + ||v||^2) + max(0, 1 - y_i(w+v)^T x_i)$\n",
    "\n",
    "$=J_i(w) + \\lambda w^Tv$,\n",
    "\n",
    "which implies that $g$ is a subgradient of $J_i(w)$."
   ]
  },
  {
   "cell_type": "markdown",
   "id": "c4e3ddf9",
   "metadata": {},
   "source": [
    "#### Dataset and sparse representation"
   ]
  },
  {
   "cell_type": "code",
   "execution_count": 4,
   "id": "d35fb60b",
   "metadata": {},
   "outputs": [],
   "source": [
    "def folder_list(path,label):\n",
    "    '''\n",
    "    PARAMETER PATH IS THE PATH OF YOUR LOCAL FOLDER\n",
    "    '''\n",
    "    filelist = os.listdir(path)\n",
    "    review = []\n",
    "    for infile in filelist:\n",
    "        file = os.path.join(path,infile)\n",
    "        r = read_data(file)\n",
    "        r.append(label)\n",
    "        review.append(r)\n",
    "    return review\n",
    "\n",
    "def read_data(file):\n",
    "    '''\n",
    "    Read each file into a list of strings.\n",
    "    Example:\n",
    "    [\"it's\", 'a', 'curious', 'thing', \"i've\", 'found', 'that', 'when', 'willis', 'is', 'not', 'called', 'on',\n",
    "    ...'to', 'carry', 'the', 'whole', 'movie', \"he's\", 'much', 'better', 'and', 'so', 'is', 'the', 'movie']\n",
    "    '''\n",
    "    f = open(file)\n",
    "    lines = f.read().split(' ')\n",
    "    symbols = '${}()[].,:;+-*/&|<>=~\" '\n",
    "    words = map(lambda Element: Element.translate(str.maketrans(\"\", \"\", symbols)).strip(), lines)\n",
    "    words = filter(None, words)\n",
    "    return list(words)\n",
    "\n",
    "def load_and_shuffle_data():\n",
    "    '''\n",
    "    pos_path is where you save positive review data.\n",
    "    neg_path is where you save negative review data.\n",
    "    '''\n",
    "    pos_path = \"/Users/stephenspivack/Desktop/NYU/machineLearning/04_supportVectorMachines/hw3/data/pos\"\n",
    "    neg_path = \"/Users/stephenspivack/Desktop/NYU/machineLearning/04_supportVectorMachines/hw3/data/neg\"\n",
    "\n",
    "    pos_review = folder_list(pos_path,1)\n",
    "    neg_review = folder_list(neg_path,-1)\n",
    "\n",
    "    review = pos_review + neg_review\n",
    "    random.shuffle(review)\n",
    "    return review"
   ]
  },
  {
   "cell_type": "markdown",
   "id": "28b5e0ec",
   "metadata": {},
   "source": [
    "6) Write a function that converts an example (a list of words) into a sparse bag-of-words representation."
   ]
  },
  {
   "cell_type": "code",
   "execution_count": 5,
   "id": "30745561",
   "metadata": {},
   "outputs": [],
   "source": [
    "def sparse_bag_of_words(x):\n",
    "    \"\"\"\n",
    "    Input is a list of words for a single training example.\n",
    "    Output is a sparse bag-of-words representation.\n",
    "    \"\"\"\n",
    "    cnt = Counter()\n",
    "    for word in x:\n",
    "        cnt[word] += 1\n",
    "    return cnt"
   ]
  },
  {
   "cell_type": "markdown",
   "id": "66662d75",
   "metadata": {},
   "source": [
    "7) Load all the data and split it into 1500 training examples and 500 validation examples. Format the training data as a list X train of dictionaries and y train as the list of corresponding 1 or -1 labels. Format the test set similarly."
   ]
  },
  {
   "cell_type": "code",
   "execution_count": 6,
   "id": "1c7c1b02",
   "metadata": {},
   "outputs": [],
   "source": [
    "def split_data(review):\n",
    "    \"\"\"\n",
    "    Input is entire dataset. \n",
    "    Output is train and test data.\n",
    "    \"\"\"\n",
    "    X = [sparse_bag_of_words(review[i][:-1]) for i in range(len(review))]\n",
    "    y = [review[i][-1] for i in range(len(review))]\n",
    "    X_train, X_test, y_train, y_test = train_test_split(X, y, test_size=0.25, random_state=0)\n",
    "    return X_train, X_test, y_train, y_test"
   ]
  },
  {
   "cell_type": "code",
   "execution_count": 22,
   "id": "69578f8b",
   "metadata": {},
   "outputs": [],
   "source": [
    "review = load_and_shuffle_data()\n",
    "X_train, X_test, y_train, y_test = split_data(review)"
   ]
  },
  {
   "cell_type": "markdown",
   "id": "45df6e4c",
   "metadata": {},
   "source": [
    "8) Implement the Pegasos algorithm to run on a sparse data representation. The output should be a sparse weight vector $w$ represented as a dictionary. Note that our Pegasos algorithm starts at $w = 0$, which corresponds to an empty dictionary. "
   ]
  },
  {
   "cell_type": "code",
   "execution_count": 8,
   "id": "fa773155",
   "metadata": {},
   "outputs": [],
   "source": [
    "def dotProduct(d1, d2):\n",
    "    \"\"\"\n",
    "    @param dict d1: a feature vector represented by a mapping from a feature (string) to a weight (float).\n",
    "    @param dict d2: same as d1\n",
    "    @return float: the dot product between d1 and d2\n",
    "    \"\"\"\n",
    "    if len(d1) < len(d2):\n",
    "        return dotProduct(d2, d1)\n",
    "    else:\n",
    "        return sum(d1.get(f, 0) * v for f, v in d2.items())\n",
    "\n",
    "def increment(d1, scale, d2):\n",
    "    \"\"\"\n",
    "    Implements d1 += scale * d2 for sparse vectors.\n",
    "    @param dict d1: the feature vector which is mutated.\n",
    "    @param float scale\n",
    "    @param dict d2: a feature vector.\n",
    "\n",
    "    NOTE: This function does not return anything, but rather\n",
    "    increments d1 in place. We do this because it is much faster to\n",
    "    change elements of d1 in place than to build a new dictionary and\n",
    "    return it.\n",
    "    \"\"\"\n",
    "    for f, v in d2.items():\n",
    "        d1[f] = d1.get(f, 0) + v*scale\n",
    "        \n",
    "def pegasos_algorithm_v1(X, y, lambda_param, max_epochs):\n",
    "    \"\"\"\n",
    "    Input: X_train, y_train, scalar for lambda parameter, number of training epochs.\n",
    "    Output: vector w containing weights after max_epochs.\n",
    "    \"\"\"\n",
    "    w, t, epoch = {}, 0, 0\n",
    "    while epoch < max_epochs:\n",
    "        for j in range(len(X)):\n",
    "            t += 1\n",
    "            eta_t = 1/(t*lambda_param)\n",
    "            if y[j]*dotProduct(w, X[j]) < 1:\n",
    "                increment(w, -eta_t*lambda_param, w)\n",
    "                increment(w, eta_t*y[j], X[j])\n",
    "            else:\n",
    "                increment(w, -eta_t*lambda_param, w)\n",
    "        epoch+=1\n",
    "    return w"
   ]
  },
  {
   "cell_type": "markdown",
   "id": "ad937d6e",
   "metadata": {},
   "source": [
    "Note that in every step of the Pegasos algorithm, we rescale every entry of $w_t$ by the factor $(1 − \\eta_t \\lambda)$. Implementing this directly with dictionaries is very slow. We can make things significantly faster by representing $w$ as $w = sW$, where $s \\in \\mathbb{R}$ and $W \\in \\mathbb{R}_d$ . You can start with $s = 1$ and $W$ all zeros (i.e. an empty dictionary). Note that both updates (i.e. whether or not we have a margin error) start with rescaling $w_t$, which we can do simply by setting $s_{t+1} = (1 − \\eta_t \\lambda)s_t$.\n"
   ]
  },
  {
   "cell_type": "markdown",
   "id": "53cb1bf8",
   "metadata": {},
   "source": [
    "9) If the update is $w_{t+1} = (1 - \\eta_t \\lambda) w_t + \\eta_t y_j x_j$, then verify that the Pegasos update step is equivalent to:\n",
    "\n",
    "$s_{t+1} = (1 - \\eta_t \\lambda)s_t$\n",
    "\n",
    "$W_{t+1} = W_t \\frac{1}{s_{t+1}} \\eta_t y_j x_j$."
   ]
  },
  {
   "cell_type": "markdown",
   "id": "0350cedf",
   "metadata": {},
   "source": [
    "$w_{t+1} = s_{t+1}W_{t+1}$\n",
    "\n",
    "$= (1 - \\eta_t \\lambda)s_t * (W_t + \\frac{1}{s_{t+1}} \\eta_t y_j x_j)$\n",
    "\n",
    "$=(1-\\eta_t \\lambda)w_t + \\eta_t y_j x_j$."
   ]
  },
  {
   "cell_type": "markdown",
   "id": "b799951a",
   "metadata": {},
   "source": [
    "Implement the Pegasos algorithm with the $(s, W)$ representation described above."
   ]
  },
  {
   "cell_type": "code",
   "execution_count": 9,
   "id": "7dcfe1c0",
   "metadata": {},
   "outputs": [],
   "source": [
    "def pegasos_algorithm_v2(X, y, lambda_param, max_epochs):\n",
    "    W, s, t, epoch = {}, 1, 1, 0\n",
    "    while epoch < max_epochs:\n",
    "        for j in range(len(X)):\n",
    "            t += 1\n",
    "            eta_t = 1/(t*lambda_param)\n",
    "            s += -eta_t*lambda_param*s\n",
    "            if y[j]*s*dotProduct(W, X[j]) < 1:\n",
    "                increment(W, (1/s)*eta_t*y[j], X[j])\n",
    "        epoch+=1\n",
    "    W.update((x, s*y) for x, y in W.items())\n",
    "    return W"
   ]
  },
  {
   "cell_type": "markdown",
   "id": "62c73768",
   "metadata": {},
   "source": [
    "10) Run both implementations of Pegasos on the training data for a couple epochs. Make sure your implementations are correct by verifying that the two approaches give essentially the same result. Report on the time taken to run each approach."
   ]
  },
  {
   "cell_type": "code",
   "execution_count": 10,
   "id": "c3952683",
   "metadata": {},
   "outputs": [
    {
     "name": "stdout",
     "output_type": "stream",
     "text": [
      "Number of seconds to run pegasos_algorithm_v1: 732.7627830505371\n",
      "First 10 key-value pairs of weights:\n"
     ]
    },
    {
     "data": {
      "text/plain": [
       "{'i': 0.02293333333333321,\n",
       " 'am': -0.02613333333333317,\n",
       " 'a': 0.0033333333333331987,\n",
       " 'steven': 0.011733333333333283,\n",
       " 'seagal': -0.025199999999999865,\n",
       " 'fan': -0.008933333333333265,\n",
       " 'only': -0.14626666666666754,\n",
       " 'say': -0.012800000000000112,\n",
       " 'this': -0.054399999999999914,\n",
       " 'now': 0.011866666666666631}"
      ]
     },
     "execution_count": 10,
     "metadata": {},
     "output_type": "execute_result"
    }
   ],
   "source": [
    "start_time = time.time()\n",
    "w1 = pegasos_algorithm_v1(X_train, y_train, 0.1, 50)\n",
    "end_time = time.time()\n",
    "print('Number of seconds to run pegasos_algorithm_v1:', end_time - start_time)\n",
    "print('First 10 key-value pairs of weights:')\n",
    "dict(itertools.islice(w1.items(), 10))"
   ]
  },
  {
   "cell_type": "code",
   "execution_count": 11,
   "id": "b87a5f84",
   "metadata": {},
   "outputs": [
    {
     "name": "stdout",
     "output_type": "stream",
     "text": [
      "Number of seconds to run pegasos_algorithm_v2: 6.297619342803955\n",
      "First 10 key-value pairs of weights:\n"
     ]
    },
    {
     "data": {
      "text/plain": [
       "{'i': 0.020533059559205744,\n",
       " 'am': -0.024666337782163004,\n",
       " 'a': -0.0007999893334756519,\n",
       " 'steven': 0.011999840002133333,\n",
       " 'seagal': -0.021466380448260762,\n",
       " 'fan': -0.005999920001066673,\n",
       " 'only': -0.14999800002666713,\n",
       " 'say': -0.009466540446127441,\n",
       " 'this': -0.050665991120118825,\n",
       " 'now': 0.011733176890974825}"
      ]
     },
     "execution_count": 11,
     "metadata": {},
     "output_type": "execute_result"
    }
   ],
   "source": [
    "start_time = time.time()\n",
    "w2 = pegasos_algorithm_v2(X_train, y_train, 0.1, 50)\n",
    "end_time = time.time()\n",
    "print('Number of seconds to run pegasos_algorithm_v2:', end_time - start_time)\n",
    "print('First 10 key-value pairs of weights:')\n",
    "dict(itertools.islice(w2.items(), 10))"
   ]
  },
  {
   "cell_type": "markdown",
   "id": "1635b20a",
   "metadata": {},
   "source": [
    "11) Write a function `classification_error` that takes a sparse weight vector $w$, a list of sparse vectors $X$ and the corresponding list of labels $y$, and returns the fraction of errors when predicting $y_i$ using sign$(w^T x_i)$. In other words, the function reports the 0-1 loss of the linear predictor $f(x) = w^T x$."
   ]
  },
  {
   "cell_type": "code",
   "execution_count": 12,
   "id": "8946de49",
   "metadata": {},
   "outputs": [],
   "source": [
    "def classification_error(w, X, y):\n",
    "    num_errors = 0\n",
    "    for i in range(len(X)):\n",
    "        if dotProduct(w, X[i]) < 0:\n",
    "            pred = -1\n",
    "        else:\n",
    "            pred = 1\n",
    "        if y[i] != pred:\n",
    "            num_errors += 1\n",
    "    return num_errors/len(X)"
   ]
  },
  {
   "cell_type": "markdown",
   "id": "2f397f39",
   "metadata": {},
   "source": [
    "12) Search for the regularization parameter that gives the minimal percent error on your test set. You should now use your faster Pegasos implementation, and run it to convergence. A good search strategy is to start with a set of regularization parameters spanning a broad range of orders of magnitude. Then, continue to zoom in until you’re convinced that additional search will not significantly improve your test performance. Plot the test errors you obtained as a function of the parameters λ you tested. (Hint: the error you get with the best regularization should be closer to $15\\%$ than $20\\%$. If not, maybe you did not train to convergence.)"
   ]
  },
  {
   "cell_type": "code",
   "execution_count": 23,
   "id": "e295b523",
   "metadata": {},
   "outputs": [
    {
     "data": {
      "image/png": "[encoded data removed]",
      "text/plain": [
       "<Figure size 576x360 with 1 Axes>"
      ]
     },
     "metadata": {
      "needs_background": "light"
     },
     "output_type": "display_data"
    }
   ],
   "source": [
    "lambda_params = [0.0001, 0.0005, 0.001, 0.005, 0.01, 0.05, 0.1]\n",
    "losses = [classification_error(pegasos_algorithm_v2(X_train, y_train, lambda_params[i], 100), \\\n",
    "                                                    X_test, y_test) for i in range(len(lambda_params))]\n",
    "plt.figure(figsize=(8,5))\n",
    "plt.plot(lambda_params, losses, color='dodgerblue')\n",
    "plt.xscale('log')\n",
    "plt.ylabel('error')\n",
    "plt.xlabel('lambda')\n",
    "plt.show()"
   ]
  },
  {
   "cell_type": "markdown",
   "id": "aefe4278",
   "metadata": {},
   "source": [
    "#### Error analysis"
   ]
  },
  {
   "cell_type": "markdown",
   "id": "71f32f67",
   "metadata": {},
   "source": [
    "13) Break the predictions on the test set into groups based on the score (you can play with the size of the groups to get a result you think is informative). For each group, examine the percentage error. You can make a table or graph. Summarize the results. Is there a correlation between higher magnitude scores and accuracy?"
   ]
  },
  {
   "cell_type": "code",
   "execution_count": null,
   "id": "0b958bf9",
   "metadata": {},
   "outputs": [],
   "source": [
    "#XC - TODO"
   ]
  },
  {
   "cell_type": "markdown",
   "id": "94d72391",
   "metadata": {},
   "source": [
    "14) Choose an input example $x = (x_1,...,x_d) \\in \\mathbb{R}^d$ that the model got wrong. We want to investigate what features contributed to this incorrect prediction. One way to rank the importance of the features to the decision is to sort them by the size of their contributions to the score. That is, for each feature we compute $|w_i x_i|$, where $w_i$ is the weight of the $i$th feature in the prediction function, and $x_i$ is the value of the $i$th feature in the input $x$. Create a table of the most important features, sorted by $|w_i x_i|$, including the feature name, the feature value $x_i$, the feature weight $w_i$, and the product $w_i x_i$. Attempt to explain why the model was incorrect. Can you think of a new feature that might be able to fix the issue? Include a short analysis for at least 2 incorrect examples. Can you think of new features that might help fix a problem? (Think of making groups of words.)"
   ]
  },
  {
   "cell_type": "code",
   "execution_count": 21,
   "id": "16f29927",
   "metadata": {},
   "outputs": [],
   "source": [
    "#XC - TODO"
   ]
  },
  {
   "cell_type": "markdown",
   "id": "8cdb75ca",
   "metadata": {},
   "source": [
    "### 2. Kernel methods"
   ]
  },
  {
   "cell_type": "markdown",
   "id": "03ade93a",
   "metadata": {},
   "source": [
    "#### Ridge Regression: Theory"
   ]
  },
  {
   "cell_type": "markdown",
   "id": "0f534bc7",
   "metadata": {},
   "source": [
    "Recall the ridge regression objective function:\n",
    "\n",
    "$J(w) = ||Xw-y||^2 + \\lambda||w||^2$, for $\\lambda > 0$."
   ]
  },
  {
   "cell_type": "markdown",
   "id": "bf0ae4e2",
   "metadata": {},
   "source": [
    "15) Show that for $w$ to be a minimizer of $J(w)$, we must have $X^TXw + \\lambda Iw = X^Ty$. Show that the minimizer of $J(w)$ is $w=(X^T X+ \\lambda I)^{-1}X^Ty$."
   ]
  },
  {
   "cell_type": "markdown",
   "id": "1f950798",
   "metadata": {},
   "source": [
    "$J(w) = (Xw-y)^T(Xw-y) + \\lambda w^Tw$\n",
    "\n",
    "$\\nabla J(w) = 2X^TXw - 2X^Ty + \\lambda 2Iw$\n",
    "\n",
    "$X^TXw + \\lambda Iw = X^Ty$\n",
    "\n",
    "$w = (X^TX) + \\lambda I)^{-1} X^T y$"
   ]
  },
  {
   "cell_type": "markdown",
   "id": "b38d6a58",
   "metadata": {},
   "source": [
    "Justify that the matrix $X^T X + \\lambda I$ is invertible, for $\\lambda > 0$."
   ]
  },
  {
   "cell_type": "markdown",
   "id": "6342b34a",
   "metadata": {},
   "source": [
    "Matrix $X^T X + \\lambda I$ is positive definite because $u^T(X^TX- \\lambda I)u > 0$ and therefore invertible for $\\lambda > 0$."
   ]
  },
  {
   "cell_type": "markdown",
   "id": "46063259",
   "metadata": {},
   "source": [
    "16) Rewrite $X^TXw + \\lambda Iwz = X^Ty$ as $w = \\frac{1}{\\lambda}(X^Ty-X^TXw)$. Based on this, show that $w = X^T\\alpha$ for some $\\alpha$, and give an expression for $\\alpha$."
   ]
  },
  {
   "cell_type": "markdown",
   "id": "2afcfa18",
   "metadata": {},
   "source": [
    "$w = \\frac{1}{\\lambda}(X^Ty-X^TXw)$ can be rewritten as $w = X^T \\alpha$, where $\\alpha = \\frac{1}{\\lambda}(y-Xw)$."
   ]
  },
  {
   "cell_type": "markdown",
   "id": "bc484fa3",
   "metadata": {},
   "source": [
    "17) Based on the fact that $w = X^T \\alpha$, explain why we say $w$ is \"in the span of the data\"."
   ]
  },
  {
   "cell_type": "markdown",
   "id": "a937fdc4",
   "metadata": {},
   "source": [
    "Here, $w$ is a linear combination of the data matrix $X$ such that \n",
    "\n",
    "$w = \\sum_{i=1}^n \\alpha_i x_i$, \n",
    "\n",
    "therefore $w$ is in the span of $X$."
   ]
  },
  {
   "cell_type": "markdown",
   "id": "18b4d30a",
   "metadata": {},
   "source": [
    "18) Show that $\\alpha = (\\lambda I + XX^T)^{-1}y$. Note that $XX^T$ is the kernel matrix for the standard vector dot product."
   ]
  },
  {
   "cell_type": "markdown",
   "id": "aca04337",
   "metadata": {},
   "source": [
    "$\\alpha = \\frac{1}{\\lambda}(y-Xw)$\n",
    "\n",
    "$\\alpha = \\frac{1}{\\lambda}(y-XX^T\\alpha)$\n",
    "\n",
    "$\\lambda I \\alpha = y-XX^T\\alpha$\n",
    "\n",
    "$y = \\lambda I \\alpha + XX^T$\n",
    "\n",
    "$y = \\alpha(\\lambda I + XX^T)$\n",
    "\n",
    "$\\alpha = (\\lambda I + XX^T)^{-1}y$."
   ]
  },
  {
   "cell_type": "markdown",
   "id": "3e7ad629",
   "metadata": {},
   "source": [
    "19) Give as kernelized expression for the $Xw$, the predicted values on the training points."
   ]
  },
  {
   "cell_type": "markdown",
   "id": "75818856",
   "metadata": {},
   "source": [
    "$K = XX^T$\n",
    "\n",
    "$Xw = XX^T\\alpha = XX^T(\\lambda I + XX^T)^{-1}y = K(\\lambda I + K)^{-1}y$."
   ]
  },
  {
   "cell_type": "markdown",
   "id": "ae9ed0a7",
   "metadata": {},
   "source": [
    "20) Give an expression for the prediction $f(x) = x^T w^*$ for a new point $x$, not in the training set."
   ]
  },
  {
   "cell_type": "markdown",
   "id": "91cce8d3",
   "metadata": {},
   "source": [
    "$f(x) = x^T w^* = xX^T\\alpha = k_x\\alpha$"
   ]
  },
  {
   "cell_type": "markdown",
   "id": "b7527276",
   "metadata": {},
   "source": [
    "#### Kernels and kernel machines"
   ]
  },
  {
   "cell_type": "markdown",
   "id": "635a7524",
   "metadata": {},
   "source": [
    "21) Write functions that compute the RBF kernel $k_{RBF(\\sigma)}(x,x') = exp(-||x-x'||^2/(2\\sigma^2))$ and the polynomial kernel $k_{poly(a,d)}(x,x') = (a+ \\langle x,x'\\rangle)^d$. Your functions should take as input two matrices $W \\in \\mathbb{R}^{n_1 \\times d}$ and $X \\in \\mathbb{R}^{n_2 \\times d}$ and should return a matrix $M \\in \\mathbb{R}^{n_1 \\times n_2}$ where $M_{ij} = k(W_i, X_j)$. In words, the $(i,j)$'th entry of $M$ should be kernel evaluation between $w_i$ (the $i$th row of $W$) and $x_j$ (the $j$th row of $X$). For the RBF kernel, you may use the scipy function `cdist(X1,X2,'sqeuclidean')` in the package `scipy.spatial.distance`."
   ]
  },
  {
   "cell_type": "code",
   "execution_count": 56,
   "id": "214bfede",
   "metadata": {},
   "outputs": [],
   "source": [
    "def linear_kernel(X1, X2):\n",
    "    \"\"\"\n",
    "    Computes the linear kernel between two sets of vectors.\n",
    "    Args:\n",
    "        X1 - an n1xd matrix with vectors x1_1,...,x1_n1 in the rows\n",
    "        X2 - an n2xd matrix with vectors x2_1,...,x2_n2 in the rows\n",
    "    Returns:\n",
    "        matrix of size n1xn2, with x1_i^T x2_j in position i,j\n",
    "    \"\"\"\n",
    "    return np.dot(X1,np.transpose(X2))\n",
    " \n",
    "def RBF_kernel(X1, X2, sigma):\n",
    "    \"\"\"\n",
    "    Computes the RBF kernel between two sets of vectors   \n",
    "    Args:\n",
    "        X1 - an n1xd matrix with vectors x1_1,...,x1_n1 in the rows\n",
    "        X2 - an n2xd matrix with vectors x2_1,...,x2_n2 in the rows\n",
    "        sigma - the bandwidth (i.e. standard deviation) for the RBF/Gaussian kernel\n",
    "    Returns:\n",
    "        matrix of size n1xn2, with exp(-||x1_i-x2_j||^2/(2 sigma^2)) in position i,j\n",
    "    \"\"\"\n",
    "    temp = scipy.spatial.distance.cdist(X1, X2, 'sqeuclidean')\n",
    "    return np.exp(-temp/(2*sigma**2))\n",
    "\n",
    "def polynomial_kernel(X1, X2, offset, degree):\n",
    "    \"\"\"\n",
    "    Computes the inhomogeneous polynomial kernel between two sets of vectors\n",
    "    Args:\n",
    "        X1 - an n1xd matrix with vectors x1_1,...,x1_n1 in the rows\n",
    "        X2 - an n2xd matrix with vectors x2_1,...,x2_n2 in the rows\n",
    "        offset, degree - two parameters for the kernel\n",
    "    Returns:\n",
    "        matrix of size n1xn2, with (offset + <x1_i,x2_j>)^degree in position i,j\n",
    "    \"\"\"\n",
    "    return (offset + linear_kernel(X1, X2))**degree"
   ]
  },
  {
   "cell_type": "markdown",
   "id": "b97535c6",
   "metadata": {},
   "source": [
    "22) Use the linear kernel function defined in the code to compute the kernel matrix on the set of points $x_0 \\in D_X = \\{−4, −1, 0, 2\\}$. Include both the code and the output."
   ]
  },
  {
   "cell_type": "code",
   "execution_count": 44,
   "id": "82450147",
   "metadata": {},
   "outputs": [
    {
     "data": {
      "text/plain": [
       "array([[16,  4,  0, -8],\n",
       "       [ 4,  1,  0, -2],\n",
       "       [ 0,  0,  0,  0],\n",
       "       [-8, -2,  0,  4]])"
      ]
     },
     "execution_count": 44,
     "metadata": {},
     "output_type": "execute_result"
    }
   ],
   "source": [
    "x_0 = np.array([-4, -1, 0, 2]).reshape(-1, 1)\n",
    "linear_kernel(x_0, x_0)"
   ]
  },
  {
   "cell_type": "markdown",
   "id": "4844d97a",
   "metadata": {},
   "source": [
    "23) Suppose we have the data set $D_{X,y} = \\{(−4, 2), (−1, 0), (0, 3), (2, 5)\\}$ (in each set of parentheses, the first number is the value of $x_i$ and the second number the corresponding value of the target $y_i$). Then by the representer theorem, the final prediction function will be in the span of the functions $x \\rightarrow k(x_0, x)$ for $x_0 \\in D_x = \\{−4, −1, 0, 2\\}$. This set of functions will look quite different depending on the kernel function we use. The set of functions $x \\rightarrow k(x_0, x)$ for $x_0 \\in X$ and for $x \\in [-6,6]$ has been provided for the linear kernel."
   ]
  },
  {
   "cell_type": "markdown",
   "id": "ff7fe967",
   "metadata": {},
   "source": [
    "(a) Plot the set of functions $x \\rightarrow k_{poly(1,3)}(x_0, x)$ for $x_0 \\in D_x$ and for $x \\in [-6,6]$."
   ]
  },
  {
   "cell_type": "code",
   "execution_count": 89,
   "id": "52de0721",
   "metadata": {},
   "outputs": [
    {
     "data": {
      "image/png": "[encoded data removed]",
      "text/plain": [
       "<Figure size 576x360 with 1 Axes>"
      ]
     },
     "metadata": {},
     "output_type": "display_data"
    }
   ],
   "source": [
    "plot_step = 0.01\n",
    "xpts = np.arange(-6, 6, plot_step).reshape(-1,1) \n",
    "x_0 = np.array([-4, -1, 0, 2]).reshape(-1,1)\n",
    "y = polynomial_kernel(x0, xpts, 1, 3) \n",
    "plt.figure(figsize=(8,5))\n",
    "for i in range(len(x0)):\n",
    "    plt.plot(xpts, y[i,:], label=\"Poly@\"+str(x_0[i]))\n",
    "plt.legend()\n",
    "plt.show()"
   ]
  },
  {
   "cell_type": "markdown",
   "id": "7caa666d",
   "metadata": {},
   "source": [
    "(b) Plot the set of functions $x \\rightarrow k_{RBF(1)}(x_0, x)$ for $x_0 \\in X$ and for $x \\in [-6,6]$."
   ]
  },
  {
   "cell_type": "code",
   "execution_count": 90,
   "id": "2b2dc69d",
   "metadata": {},
   "outputs": [
    {
     "data": {
      "image/png": "[encoded data removed]",
      "text/plain": [
       "<Figure size 576x360 with 1 Axes>"
      ]
     },
     "metadata": {},
     "output_type": "display_data"
    }
   ],
   "source": [
    "y = RBF_kernel(x0, xpts, 1) \n",
    "plt.figure(figsize=(8,5))\n",
    "for i in range(len(x0)):\n",
    "    plt.plot(xpts, y[i,:], label=\"RBF@\"+str(x_0[i]))\n",
    "plt.legend()\n",
    "plt.show()"
   ]
  },
  {
   "cell_type": "markdown",
   "id": "587b4b35",
   "metadata": {},
   "source": [
    "24) By the representer theorem, the final prediction function will be of the form $f(x) = \\sum_{i=1}^n \\alpha_i k(x_i, x)$, where $x_1, ..., x_n \\in X$ are the inputs in the training set. We will use the class `Kernel_Machine` in the skeleton code to make prediction with different kernels. Complete the `predict` function of the class `Kernel_Machine`. Construct a `Kernel_Machine` object with the RBF kernel (sigma=1), with prototype points at −1,0,1 and corresponding weights $\\alpha_i = \\{1, −1, 1\\}$. Plot the resulting function."
   ]
  },
  {
   "cell_type": "code",
   "execution_count": 64,
   "id": "1a8b17f1",
   "metadata": {},
   "outputs": [],
   "source": [
    "class Kernel_Machine(object):\n",
    "    def __init__(self, kernel, training_points, weights):\n",
    "        \"\"\"\n",
    "        Args:\n",
    "            kernel(X1,X2) - a function return the cross-kernel matrix between rows of X1 and rows of X2 for kernel k\n",
    "            training_points - an nxd matrix with rows x_1,..., x_n\n",
    "            weights - a vector of length n with entries alpha_1,...,alpha_n\n",
    "        \"\"\"\n",
    "\n",
    "        self.kernel = kernel\n",
    "        self.training_points = training_points\n",
    "        self.weights = weights\n",
    "        \n",
    "    def predict(self, X):\n",
    "        \"\"\"\n",
    "        Evaluates the kernel machine on the points given by the rows of X\n",
    "        Args:\n",
    "            X - an nxd matrix with inputs x_1,...,x_n in the rows\n",
    "        Returns:\n",
    "            Vector of kernel machine evaluations on the n points in X.  Specifically, jth entry of return vector is\n",
    "                Sum_{i=1}^R alpha_i k(x_j, mu_i)\n",
    "        \"\"\"\n",
    "        k = self.kernel(X, self.training_points)\n",
    "        return(k@self.weights)"
   ]
  },
  {
   "cell_type": "code",
   "execution_count": 74,
   "id": "b0ee493c",
   "metadata": {},
   "outputs": [
    {
     "name": "stdout",
     "output_type": "stream",
     "text": [
      "[0.01077726 0.52880462 0.21306132 0.48230437]\n"
     ]
    }
   ],
   "source": [
    "proto_pts = np.array([-1, 0, 1]).reshape(-1,1)\n",
    "x = np.array([-4, -1, 0, 2]).reshape(-1,1)\n",
    "alpha = [1, -1, 1]\n",
    "kernelmachine = Kernel_Machine(functools.partial(RBF_kernel ,sigma=1), proto_pts , alpha)\n",
    "y_hat = kernelmachine.predict(x)\n",
    "print(y_hat)"
   ]
  },
  {
   "cell_type": "code",
   "execution_count": 88,
   "id": "596ed556",
   "metadata": {},
   "outputs": [
    {
     "data": {
      "image/png": "[encoded data removed]",
      "text/plain": [
       "<Figure size 576x360 with 1 Axes>"
      ]
     },
     "metadata": {},
     "output_type": "display_data"
    }
   ],
   "source": [
    "y_hat = kernelmachine.predict(xpts)\n",
    "plt.figure(figsize=(8,5))\n",
    "plt.plot(xpts, y_hat, c='dodgerblue')\n",
    "plt.show()"
   ]
  },
  {
   "cell_type": "markdown",
   "id": "d55818db",
   "metadata": {},
   "source": [
    "#### Kernel Ridge Regression"
   ]
  },
  {
   "cell_type": "markdown",
   "id": "6ba569fb",
   "metadata": {},
   "source": [
    "25) Plot the training data. You should note that while there is a clear relationship between $x$ and $y$, the relationship is not linear."
   ]
  },
  {
   "cell_type": "code",
   "execution_count": 128,
   "id": "430f7d41",
   "metadata": {},
   "outputs": [
    {
     "data": {
      "image/png": "[encoded data removed]",
      "text/plain": [
       "<Figure size 576x360 with 1 Axes>"
      ]
     },
     "metadata": {},
     "output_type": "display_data"
    }
   ],
   "source": [
    "data_train,data_test = np.loadtxt(\"krr-train.txt\"),np.loadtxt(\"krr-test.txt\")\n",
    "x_train, y_train = data_train[:,0].reshape(-1,1),data_train[:,1].reshape(-1,1)\n",
    "x_test, y_test = data_test[:,0].reshape(-1,1),data_test[:,1].reshape(-1,1)\n",
    "plt.figure(figsize=(8,5))\n",
    "plt.plot(x_train, y_train, 'o', c='dodgerblue')\n",
    "plt.show()"
   ]
  },
  {
   "cell_type": "markdown",
   "id": "00f92cef",
   "metadata": {},
   "source": [
    "26) In a previous problem, we showed that in kernelized ridge regression, the final prediction function is $f(x) = \\sum_{i=1}^n \\alpha_i k(x_i, x)$, where $\\alpha = (\\lambda I +K)^{-1}y$ and $K \\in \\mathbb{R}^{n \\times n}$ is the kernel matrix of the training data: $K_{ij} = k(x_i, x_j)$, for $x_1, ..., x_n$. In terms of kernel machines, $\\alpha_i$ is the weight on the kernel function evaluated at the training point $x_i$. Complete the function `train_kernel_ridge_regression` so that it performs kernel ridge regression and returns a `Kernel_Machine` object that can be used for predicting on new points."
   ]
  },
  {
   "cell_type": "code",
   "execution_count": 129,
   "id": "93a4b98a",
   "metadata": {},
   "outputs": [],
   "source": [
    "def train_kernel_ridge_regression(X, y, kernel, l2reg):\n",
    "    K = kernel(X, X)\n",
    "    alpha = np.linalg.inv(l2reg*np.identity(K.shape[0])+K) @ y\n",
    "    return Kernel_Machine(kernel, X, alpha)"
   ]
  },
  {
   "cell_type": "markdown",
   "id": "c241023b",
   "metadata": {},
   "source": [
    "27) Use the code provided to plot your fits to the training data for the RBF kernel with a fixed regularization parameter of 0.0001 for 3 different values of sigma: 0.01, 0.1, and 1.0. What values of sigma do you think would be more likely to over fit, and which less?"
   ]
  },
  {
   "cell_type": "code",
   "execution_count": 130,
   "id": "d879f86c",
   "metadata": {},
   "outputs": [
    {
     "data": {
      "image/png": "[encoded data removed]",
      "text/plain": [
       "<Figure size 576x360 with 1 Axes>"
      ]
     },
     "metadata": {},
     "output_type": "display_data"
    }
   ],
   "source": [
    "plot_step = 0.001\n",
    "l2reg = 0.0001\n",
    "xpts = np.arange(0 , 1, plot_step).reshape(-1,1)\n",
    "plt.figure(figsize=(8,5))\n",
    "plt.plot(x_train,y_train,'o')\n",
    "for sigma in [.01,.1,1]:\n",
    "    k = functools.partial(RBF_kernel, sigma=sigma)\n",
    "    f = train_kernel_ridge_regression(x_train, y_train, k, l2reg=l2reg)\n",
    "    label = \"Sigma=\"+str(sigma)+\",L2Reg=\"+str(l2reg)\n",
    "    plt.plot(xpts, f.predict(xpts), label=label)\n",
    "plt.legend(loc = 'best')\n",
    "plt.ylim(-2.5, 2.5)\n",
    "plt.show()"
   ]
  },
  {
   "cell_type": "markdown",
   "id": "5f11ff06",
   "metadata": {},
   "source": [
    "Smaller values of sigma tend to overfit."
   ]
  },
  {
   "cell_type": "markdown",
   "id": "a7c4b7cf",
   "metadata": {},
   "source": [
    "28) Use the code provided to plot your fits to the training data for the RBF kernel with a fixed sigma of 0.02 and 4 different values of the regularization parameter $\\lambda: 0.0001, 0.01, 0.1, 2.0$. What happens to the prediction function as $\\lambda \\rightarrow$ infinity?"
   ]
  },
  {
   "cell_type": "code",
   "execution_count": 131,
   "id": "cd2d7943",
   "metadata": {},
   "outputs": [
    {
     "data": {
      "image/png": "[encoded data removed]",
      "text/plain": [
       "<Figure size 576x360 with 1 Axes>"
      ]
     },
     "metadata": {},
     "output_type": "display_data"
    }
   ],
   "source": [
    "plot_step = 0.001\n",
    "sigma = 0.02\n",
    "xpts = np.arange(0 , 1, plot_step).reshape(-1,1)\n",
    "plt.figure(figsize=(8,5))\n",
    "plt.plot(x_train,y_train,'o')\n",
    "for l2reg in [0.0001,0.01,0.1,2.0]:\n",
    "    k = functools.partial(RBF_kernel, sigma=sigma)\n",
    "    f = train_kernel_ridge_regression(x_train, y_train, k, l2reg=l2reg)\n",
    "    label = \"Sigma=\"+str(sigma)+\",L2Reg=\"+str(l2reg)\n",
    "    plt.plot(xpts, f.predict(xpts), label=label)\n",
    "plt.legend(loc = 'best')\n",
    "plt.ylim(-4,1.5)\n",
    "plt.show()"
   ]
  },
  {
   "cell_type": "markdown",
   "id": "0297bc7e",
   "metadata": {},
   "source": [
    "The prediction function approaches 0 as regularization constant lambda approaches infinity."
   ]
  },
  {
   "cell_type": "markdown",
   "id": "7d2fb2b0",
   "metadata": {},
   "source": [
    "29) Find the best hyperparameter settings (including kernel parameters and the regularization parameter) for each of the kernel types. Summarize your results in a table, which gives training error and test error for each setting. Include in your table the best settings for each kernel type, as well as nearby settings that show that making small change in any one of the hyperparameters in either direction will cause the performance to get worse. You should use average square loss on the test set to rank the parameter settings. To make things easier for you, we have provided an sklearn wrapper for the kernel ridge regression function we have created so that you can use sklearn’s GridSearchCV. Note: Because of the small dataset size, these models can be fit extremely fast, so there is no excuse for not doing extensive hyperparameter tuning."
   ]
  },
  {
   "cell_type": "code",
   "execution_count": 138,
   "id": "519b55e4",
   "metadata": {},
   "outputs": [],
   "source": [
    "class KernelRidgeRegression(BaseEstimator, RegressorMixin):  \n",
    "    \"\"\"sklearn wrapper for our kernel ridge regression\"\"\"\n",
    "     \n",
    "    def __init__(self, kernel=\"RBF\", sigma=1, degree=2, offset=1, l2reg=1):        \n",
    "        self.kernel = kernel\n",
    "        self.sigma = sigma\n",
    "        self.degree = degree\n",
    "        self.offset = offset\n",
    "        self.l2reg = l2reg \n",
    "\n",
    "    def fit(self, X, y=None):\n",
    "        \"\"\"\n",
    "        This should fit classifier. All the \"work\" should be done here.\n",
    "        \"\"\"\n",
    "        if (self.kernel == \"linear\"):\n",
    "            self.k = linear_kernel\n",
    "        elif (self.kernel == \"RBF\"):\n",
    "            self.k = functools.partial(RBF_kernel, sigma=self.sigma)\n",
    "        elif (self.kernel == \"polynomial\"):\n",
    "            self.k = functools.partial(polynomial_kernel, offset=self.offset, degree=self.degree)\n",
    "        else:\n",
    "            raise ValueError('Unrecognized kernel type requested.')\n",
    "        \n",
    "        self.kernel_machine_ = train_kernel_ridge_regression(X, y, self.k, self.l2reg)\n",
    "\n",
    "        return self\n",
    "\n",
    "    def predict(self, X, y=None):\n",
    "        try:\n",
    "            getattr(self, \"kernel_machine_\")\n",
    "        except AttributeError:\n",
    "            raise RuntimeError(\"You must train classifer before predicting data!\")\n",
    "\n",
    "        return(self.kernel_machine_.predict(X))\n",
    "\n",
    "    def score(self, X, y=None):\n",
    "        # get the average square error\n",
    "        return(((self.predict(X)-y)**2).mean()) "
   ]
  },
  {
   "cell_type": "code",
   "execution_count": 152,
   "id": "50e0eed6",
   "metadata": {},
   "outputs": [
    {
     "data": {
      "text/plain": [
       "GridSearchCV(cv=PredefinedSplit(test_fold=array([-1, -1, ...,  0,  0])),\n",
       "             estimator=KernelRidgeRegression(),\n",
       "             param_grid=[{'kernel': ['RBF'], 'l2reg': [0.05, 0.1, 0.5, 1],\n",
       "                          'sigma': [0.01, 0.05, 0.1, 0.5]},\n",
       "                         {'degree': [5, 6, 7], 'kernel': ['polynomial'],\n",
       "                          'l2reg': [0.001, 0.01, 0.1], 'offset': [0.1, 1, 10]},\n",
       "                         {'kernel': ['linear'],\n",
       "                          'l2reg': [1000, 500, 100, 50, 10, 5, 1, 0.5]}],\n",
       "             return_train_score=True,\n",
       "             scoring=make_scorer(mean_squared_error, greater_is_better=False))"
      ]
     },
     "execution_count": 152,
     "metadata": {},
     "output_type": "execute_result"
    }
   ],
   "source": [
    "test_fold = [-1]*len(x_train) + [0]*len(x_test)\n",
    "predefined_split = PredefinedSplit(test_fold=test_fold)\n",
    "\n",
    "param_grid = [{'kernel': ['RBF'],'sigma':[0.01,0.05,0.1,0.5], 'l2reg': [0.05,0.1,0.5,1]},\n",
    "              {'kernel':['polynomial'],'offset':[0.1,1,10], 'degree':[5,6,7],'l2reg':[0.001,0.01,0.1] },\n",
    "              {'kernel':['linear'],'l2reg': [1000,500,100,50,10,5,1,0.5]}]\n",
    "kernel_ridge_regression_estimator = KernelRidgeRegression()\n",
    "grid = GridSearchCV(kernel_ridge_regression_estimator, \n",
    "                    param_grid,\n",
    "                    cv = predefined_split,\n",
    "                    scoring = make_scorer(mean_squared_error,greater_is_better = False),\n",
    "                    return_train_score=True\n",
    "                   )\n",
    "grid.fit(np.vstack((x_train,x_test)),np.vstack((y_train,y_test))) "
   ]
  },
  {
   "cell_type": "code",
   "execution_count": 153,
   "id": "939dd488",
   "metadata": {},
   "outputs": [
    {
     "data": {
      "text/html": [
       "<div>\n",
       "<style scoped>\n",
       "    .dataframe tbody tr th:only-of-type {\n",
       "        vertical-align: middle;\n",
       "    }\n",
       "\n",
       "    .dataframe tbody tr th {\n",
       "        vertical-align: top;\n",
       "    }\n",
       "\n",
       "    .dataframe thead th {\n",
       "        text-align: right;\n",
       "    }\n",
       "</style>\n",
       "<table border=\"1\" class=\"dataframe\">\n",
       "  <thead>\n",
       "    <tr style=\"text-align: right;\">\n",
       "      <th></th>\n",
       "      <th>param_degree</th>\n",
       "      <th>param_kernel</th>\n",
       "      <th>param_l2reg</th>\n",
       "      <th>param_offset</th>\n",
       "      <th>param_sigma</th>\n",
       "      <th>mean_test_score</th>\n",
       "      <th>mean_train_score</th>\n",
       "    </tr>\n",
       "  </thead>\n",
       "  <tbody>\n",
       "    <tr>\n",
       "      <th>9</th>\n",
       "      <td>-</td>\n",
       "      <td>RBF</td>\n",
       "      <td>0.50</td>\n",
       "      <td>-</td>\n",
       "      <td>0.05</td>\n",
       "      <td>0.013975</td>\n",
       "      <td>0.014918</td>\n",
       "    </tr>\n",
       "    <tr>\n",
       "      <th>5</th>\n",
       "      <td>-</td>\n",
       "      <td>RBF</td>\n",
       "      <td>0.10</td>\n",
       "      <td>-</td>\n",
       "      <td>0.05</td>\n",
       "      <td>0.015176</td>\n",
       "      <td>0.012190</td>\n",
       "    </tr>\n",
       "    <tr>\n",
       "      <th>13</th>\n",
       "      <td>-</td>\n",
       "      <td>RBF</td>\n",
       "      <td>1.00</td>\n",
       "      <td>-</td>\n",
       "      <td>0.05</td>\n",
       "      <td>0.015450</td>\n",
       "      <td>0.017943</td>\n",
       "    </tr>\n",
       "    <tr>\n",
       "      <th>1</th>\n",
       "      <td>-</td>\n",
       "      <td>RBF</td>\n",
       "      <td>0.05</td>\n",
       "      <td>-</td>\n",
       "      <td>0.05</td>\n",
       "      <td>0.016193</td>\n",
       "      <td>0.011565</td>\n",
       "    </tr>\n",
       "    <tr>\n",
       "      <th>0</th>\n",
       "      <td>-</td>\n",
       "      <td>RBF</td>\n",
       "      <td>0.05</td>\n",
       "      <td>-</td>\n",
       "      <td>0.01</td>\n",
       "      <td>0.018616</td>\n",
       "      <td>0.004931</td>\n",
       "    </tr>\n",
       "    <tr>\n",
       "      <th>...</th>\n",
       "      <td>...</td>\n",
       "      <td>...</td>\n",
       "      <td>...</td>\n",
       "      <td>...</td>\n",
       "      <td>...</td>\n",
       "      <td>...</td>\n",
       "      <td>...</td>\n",
       "    </tr>\n",
       "    <tr>\n",
       "      <th>47</th>\n",
       "      <td>-</td>\n",
       "      <td>linear</td>\n",
       "      <td>10.00</td>\n",
       "      <td>-</td>\n",
       "      <td>-</td>\n",
       "      <td>0.164591</td>\n",
       "      <td>0.206780</td>\n",
       "    </tr>\n",
       "    <tr>\n",
       "      <th>46</th>\n",
       "      <td>-</td>\n",
       "      <td>linear</td>\n",
       "      <td>50.00</td>\n",
       "      <td>-</td>\n",
       "      <td>-</td>\n",
       "      <td>0.165678</td>\n",
       "      <td>0.208251</td>\n",
       "    </tr>\n",
       "    <tr>\n",
       "      <th>45</th>\n",
       "      <td>-</td>\n",
       "      <td>linear</td>\n",
       "      <td>100.00</td>\n",
       "      <td>-</td>\n",
       "      <td>-</td>\n",
       "      <td>0.166435</td>\n",
       "      <td>0.209156</td>\n",
       "    </tr>\n",
       "    <tr>\n",
       "      <th>44</th>\n",
       "      <td>-</td>\n",
       "      <td>linear</td>\n",
       "      <td>500.00</td>\n",
       "      <td>-</td>\n",
       "      <td>-</td>\n",
       "      <td>0.167602</td>\n",
       "      <td>0.210499</td>\n",
       "    </tr>\n",
       "    <tr>\n",
       "      <th>43</th>\n",
       "      <td>-</td>\n",
       "      <td>linear</td>\n",
       "      <td>1000.00</td>\n",
       "      <td>-</td>\n",
       "      <td>-</td>\n",
       "      <td>0.167811</td>\n",
       "      <td>0.210737</td>\n",
       "    </tr>\n",
       "  </tbody>\n",
       "</table>\n",
       "<p>51 rows × 7 columns</p>\n",
       "</div>"
      ],
      "text/plain": [
       "   param_degree param_kernel  param_l2reg param_offset param_sigma  \\\n",
       "9             -          RBF         0.50            -        0.05   \n",
       "5             -          RBF         0.10            -        0.05   \n",
       "13            -          RBF         1.00            -        0.05   \n",
       "1             -          RBF         0.05            -        0.05   \n",
       "0             -          RBF         0.05            -        0.01   \n",
       "..          ...          ...          ...          ...         ...   \n",
       "47            -       linear        10.00            -           -   \n",
       "46            -       linear        50.00            -           -   \n",
       "45            -       linear       100.00            -           -   \n",
       "44            -       linear       500.00            -           -   \n",
       "43            -       linear      1000.00            -           -   \n",
       "\n",
       "    mean_test_score  mean_train_score  \n",
       "9          0.013975          0.014918  \n",
       "5          0.015176          0.012190  \n",
       "13         0.015450          0.017943  \n",
       "1          0.016193          0.011565  \n",
       "0          0.018616          0.004931  \n",
       "..              ...               ...  \n",
       "47         0.164591          0.206780  \n",
       "46         0.165678          0.208251  \n",
       "45         0.166435          0.209156  \n",
       "44         0.167602          0.210499  \n",
       "43         0.167811          0.210737  \n",
       "\n",
       "[51 rows x 7 columns]"
      ]
     },
     "execution_count": 153,
     "metadata": {},
     "output_type": "execute_result"
    }
   ],
   "source": [
    "pd.set_option('display.max_rows', 20)\n",
    "df = pd.DataFrame(grid.cv_results_)\n",
    "# Flip sign of score back, because GridSearchCV likes to maximize,\n",
    "# so it flips the sign of the score if \"greater_is_better=FALSE\"\n",
    "df['mean_test_score'] = -df['mean_test_score']\n",
    "df['mean_train_score'] = -df['mean_train_score']\n",
    "cols_to_keep = [\"param_degree\", \"param_kernel\",\"param_l2reg\" ,\"param_offset\",\"param_sigma\",\n",
    "        \"mean_test_score\",\"mean_train_score\"]\n",
    "df_toshow = df[cols_to_keep].fillna('-')\n",
    "df_toshow.sort_values(by=[\"mean_test_score\"])"
   ]
  },
  {
   "cell_type": "markdown",
   "id": "3886d201",
   "metadata": {},
   "source": [
    "30) Plot your best fitting prediction functions using the polynomial kernel and the RBF kernel. Use the domain $x \\in (−0.5, 1.5)$. Comment on the results."
   ]
  },
  {
   "cell_type": "code",
   "execution_count": 155,
   "id": "32ca168b",
   "metadata": {},
   "outputs": [
    {
     "data": {
      "image/png": "[encoded data removed]",
      "text/plain": [
       "<Figure size 576x360 with 1 Axes>"
      ]
     },
     "metadata": {},
     "output_type": "display_data"
    }
   ],
   "source": [
    "## Plot the best polynomial and RBF fits you found\n",
    "plt.figure(figsize=(8,5))\n",
    "plot_step = .01\n",
    "xpts = np.arange(-.5 , 1.5, plot_step).reshape(-1,1)\n",
    "plt.plot(x_train,y_train,'o')\n",
    "#Plot best polynomial fit\n",
    "offset= 1\n",
    "degree = 6\n",
    "l2reg = 0.01\n",
    "k = functools.partial(polynomial_kernel, offset=offset, degree=degree)\n",
    "f = train_kernel_ridge_regression(x_train, y_train, k, l2reg=l2reg)\n",
    "label = \"Offset=\"+str(offset)+\",Degree=\"+str(degree)+\",L2Reg=\"+str(l2reg)\n",
    "plt.plot(xpts, f.predict(xpts), label=label)\n",
    "#Plot best RBF fit\n",
    "sigma = 0.05\n",
    "l2reg= 0.5\n",
    "k = functools.partial(RBF_kernel, sigma=sigma)\n",
    "f = train_kernel_ridge_regression(x_train, y_train, k, l2reg=l2reg)\n",
    "label = \"Sigma=\"+str(sigma)+\",L2Reg=\"+str(l2reg)\n",
    "plt.plot(xpts, f.predict(xpts), label=label)\n",
    "plt.legend(loc = 'best')\n",
    "plt.ylim(-1,1.75)\n",
    "plt.show()"
   ]
  },
  {
   "cell_type": "markdown",
   "id": "c8cc224d",
   "metadata": {},
   "source": [
    "31) The data for this problem was generated as follows: A function $f : \\mathbb{R} \\rightarrow \\mathbb{R}$\n",
    "was chosen. Then to generate a point $(x,y)$, we sampled $x$ uniformly from $(0,1)$ and we\n",
    "sampled $\\epsilon ~ N(0,0.1)^2$ (so $var(\\epsilon) = 0.12$). The final point is $(x,f(x)+\\epsilon)$. What is the Bayes decision function and the Bayes risk for the loss function $\\ell (\\hat{y}, y) = (\\hat{y} − y)$?"
   ]
  },
  {
   "cell_type": "markdown",
   "id": "e981b5cc",
   "metadata": {},
   "source": [
    "Bayes decision function $E(y|x) = E(f(x)+\\epsilon|x) = f(x)$.\n",
    "\n",
    "Bayesian risk $E((F(x)-y)^2) = E(f(x)-f(x)-\\epsilon)^2 = 0.1^2$."
   ]
  },
  {
   "cell_type": "markdown",
   "id": "444e1306",
   "metadata": {},
   "source": [
    "### 3. Kernel SVMs with Kernelized Pegasos"
   ]
  },
  {
   "cell_type": "markdown",
   "id": "5bf6baeb",
   "metadata": {},
   "source": [
    "32) Load the SVM training `svm-train.txt` and `svm-test.txt` test data from the zip file. Plot the training data using the code supplied. Are the data linearly separable? Quadratically separable? What if we used some RBF kernel?"
   ]
  },
  {
   "cell_type": "code",
   "execution_count": 159,
   "id": "2ebbd549",
   "metadata": {},
   "outputs": [
    {
     "data": {
      "image/png": "[encoded data removed]",
      "text/plain": [
       "<Figure size 288x288 with 1 Axes>"
      ]
     },
     "metadata": {},
     "output_type": "display_data"
    }
   ],
   "source": [
    "# Load and plot the SVM data\n",
    "#load the training and test sets\n",
    "data_train,data_test = np.loadtxt(\"svm-train.txt\"),np.loadtxt(\"svm-test.txt\")\n",
    "x_train, y_train = data_train[:,0:2], data_train[:,2].reshape(-1,1)\n",
    "x_test, y_test = data_test[:,0:2], data_test[:,2].reshape(-1,1)\n",
    "\n",
    "#determine predictions for the training set\n",
    "yplus = np.ma.masked_where(y_train[:,0]<=0, y_train[:,0])\n",
    "xplus = x_train[~np.array(yplus.mask)]\n",
    "yminus = np.ma.masked_where(y_train[:,0]>0, y_train[:,0])\n",
    "xminus = x_train[~np.array(yminus.mask)]\n",
    "\n",
    "#plot the predictions for the training set\n",
    "figsize = plt.figaspect(1)\n",
    "f, (ax) = plt.subplots(1, 1, figsize=figsize) \n",
    "\n",
    "pluses = ax.scatter (xplus[:,0], xplus[:,1], marker='+', c='r', label = '+1 labels for training set')\n",
    "minuses = ax.scatter (xminus[:,0], xminus[:,1], marker=r'$-$', c='b', label = '-1 labels for training set')\n",
    "\n",
    "ax.set_ylabel(r\"$x_2$\", fontsize=11)\n",
    "ax.set_xlabel(r\"$x_1$\", fontsize=11)\n",
    "ax.set_title('Training set size = %s'% len(data_train), fontsize=9)  \n",
    "ax.axis('tight')\n",
    "ax.legend(handles=[pluses, minuses], fontsize=9)\n",
    "plt.show()"
   ]
  },
  {
   "cell_type": "markdown",
   "id": "49f201ac",
   "metadata": {},
   "source": [
    "33) Unlike for kernel ridge regression, there is no closed-form solution for SVM classification (kernelized or not). Implement kernelized Pegasos. Because we are not using a sparse representation for this data, you will probably not see much gain by implementing the “optimized” versions described in the problems above."
   ]
  },
  {
   "cell_type": "code",
   "execution_count": 161,
   "id": "1a5bb47f",
   "metadata": {},
   "outputs": [],
   "source": [
    "# XC - TODO"
   ]
  },
  {
   "cell_type": "markdown",
   "id": "cefb4976",
   "metadata": {},
   "source": [
    "34) Find the best hyperparameter settings (including kernel parameters and the regularization parameter) for each of the kernel types. Summarize your results in a table, which gives training error and test error (i.e. average 0/1 loss) for each setting. Include in your table the best settings for each kernel type, as well as nearby settings that show that making small change in any one of the hyperparameters in either direction will cause the performance to get worse. You should use the 0/1 loss on the test set to rank the parameter settings.\n"
   ]
  },
  {
   "cell_type": "code",
   "execution_count": 160,
   "id": "e8e32698",
   "metadata": {},
   "outputs": [],
   "source": [
    "# XC - TODO"
   ]
  },
  {
   "cell_type": "markdown",
   "id": "2258ab8d",
   "metadata": {},
   "source": [
    "35) Plot your best fitting prediction functions using the linear, polynomial, and the RBF kernel. The code provided may help."
   ]
  },
  {
   "cell_type": "code",
   "execution_count": null,
   "id": "47fcbc93",
   "metadata": {},
   "outputs": [],
   "source": [
    "# XC - TODO"
   ]
  }
 ],
 "metadata": {
  "kernelspec": {
   "display_name": "Python 3 (ipykernel)",
   "language": "python",
   "name": "python3"
  },
  "language_info": {
   "codemirror_mode": {
    "name": "ipython",
    "version": 3
   },
   "file_extension": ".py",
   "mimetype": "text/x-python",
   "name": "python",
   "nbconvert_exporter": "python",
   "pygments_lexer": "ipython3",
   "version": "3.9.10"
  }
 },
 "nbformat": 4,
 "nbformat_minor": 5
}
