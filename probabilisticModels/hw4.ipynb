{
 "cells": [
  {
   "cell_type": "markdown",
   "id": "c84b5e4d",
   "metadata": {},
   "source": [
    "NYU Center for Data Science\n",
    "\n",
    "DS-GA 1003 Machine Learning\n",
    "\n",
    "HW4 - Probabilistic models\n",
    "\n",
    "Stephen Spivack (ss7726@nyu.edu)"
   ]
  },
  {
   "cell_type": "code",
   "execution_count": 1,
   "id": "f9714396",
   "metadata": {},
   "outputs": [],
   "source": [
    "import os\n",
    "import numpy as np\n",
    "import pandas as pd\n",
    "from scipy import stats\n",
    "from scipy.optimize import minimize\n",
    "from sklearn.calibration import calibration_curve\n",
    "from sklearn.preprocessing import minmax_scale\n",
    "from functools import partial\n",
    "import matplotlib.pyplot as plt\n",
    "import seaborn as sns\n",
    "sns.set()"
   ]
  },
  {
   "cell_type": "markdown",
   "id": "255fccfd",
   "metadata": {},
   "source": [
    "### 1) Logistic regression"
   ]
  },
  {
   "cell_type": "markdown",
   "id": "ee7bb92f",
   "metadata": {},
   "source": [
    "Consider a binary classification setting with input space $X = \\mathbb{R}^d$, outcome space $Y_{\\pm} = \\{−1, 1\\}$, and a dataset $D = ((x^{(1)}, y^{(1)}), ..., (x^{(n)}, y^{(n)}))$."
   ]
  },
  {
   "cell_type": "markdown",
   "id": "7272576c",
   "metadata": {},
   "source": [
    "#### Equivalence of ERM and probabilistic approaches"
   ]
  },
  {
   "cell_type": "markdown",
   "id": "e90cd4ba",
   "metadata": {},
   "source": [
    "1) Show that the two approaches are equivalent, i.e. they will produce the same solution for $w$."
   ]
  },
  {
   "cell_type": "markdown",
   "id": "f7c26f2b",
   "metadata": {},
   "source": [
    "First, we can write an expression to maximize the log-likelihood in the case of the ERM model:\n",
    "\n",
    "$\\hat{R}_n(w) = \\frac{1}{n} \\sum_{i=1}^n \\ell_{logistic}(y_i w^T x_i) = \\frac{1}{n} \\sum_{i=1}^n log(1 + e^{-y_i w^T x_i})$\n",
    "\n",
    "Next, we can write an expression to minimize the negative log-likelihood in the case of the probabilistic model:\n",
    "\n",
    "$NLL_D(w) = -\\sum_{i=1}^n y'_i log(f(w^T x_i)) + (1-y'_i) log(1-f(w^T x_i)) = \\sum_{i=1}^n [-y'_i log(f(w^T x_i))] + (y'_i-1) log(1-f(w^T x_i))$\n",
    "\n",
    "Next, we plug in $y_i \\in \\{-1,1\\}$ to show that both are equal to $\\hat{R}_n(w)$:\n",
    "\n",
    "If $y_i = 1$, then $NLL(w) =  \\sum_{i=1}^n [-log(f(w^T x_i))] = \\sum_{i=1}^n log(1 + e^{-y_i w^T x_i}) = \\hat{R}_n(w)$\n",
    "\n",
    "If $y_i = -1$, then $NLL(w) =  \\sum_{i=1}^n [-log(1 - f(w^T x_i))] = \\sum_{i=1}^n log(1 + e^{-y_i w^T x_i}) = \\hat{R}_n(w)$"
   ]
  },
  {
   "cell_type": "markdown",
   "id": "a87ef734",
   "metadata": {},
   "source": [
    "#### Linearly Separable Data"
   ]
  },
  {
   "cell_type": "markdown",
   "id": "49c3957c",
   "metadata": {},
   "source": [
    "2) Show that the decision boundary of logistic regression is given by $\\{x: x^T w = 0\\}$. Note that the set will not change if we multiply the weights by some constant $c$."
   ]
  },
  {
   "cell_type": "markdown",
   "id": "64f17935",
   "metadata": {},
   "source": [
    "We model the class probabilities as:\n",
    "\n",
    "$p(y=1|X) = f(\\sum_{i=1}^n w_i x_i) = f(w^T x)$\n",
    "\n",
    "Given that $f(0) = 0.5$, we conclude that the decision boundary is given by $w^T x = 0$."
   ]
  },
  {
   "cell_type": "markdown",
   "id": "c75f8ae5",
   "metadata": {},
   "source": [
    "3) Suppose the data is linearly separable and by gradient descent/ascent we have reached a decision boundary defined by $\\hat{w}$ where all examples are classified correctly. Show that we can always increase the likelihood of the data by multiplying a scalar $c$ on $\\hat{w}$, which means that MLE is not well-defined in this case."
   ]
  },
  {
   "cell_type": "markdown",
   "id": "0971c5ca",
   "metadata": {},
   "source": [
    "The function we are maximizing is given by\n",
    "\n",
    "$\\ell (w) = \\sum_{i=1}^n y_i log f(w^T x_i) + (1-y_i) log(1 - f(w^T x_i))$\n",
    "\n",
    "If $y_i = 1$, we have $\\ell (w) = log f(w^T x_i)$. Given the linear separation we know $x_i > 0$, which means $\\lim_{w\\to\\infty} f(w^T x_i) = 0$. The same logic applies for the case where $y_i = -1$.\n",
    "\n",
    "Therefore, no matter what $cw$ is, we can continually maximize the objective function by increasing $c$ toward infinity."
   ]
  },
  {
   "cell_type": "markdown",
   "id": "dc7fdbcc",
   "metadata": {},
   "source": [
    "#### Regularized Logistic Regression"
   ]
  },
  {
   "cell_type": "markdown",
   "id": "6a479e9c",
   "metadata": {},
   "source": [
    "The $\\ell_2$ regularized logistic regression objective function can be defined as\n",
    "\n",
    "$J_{logistic} (w) = \\hat{R}_n (w) + \\lambda ||w||^2 = \\frac{1}{n} \\sum_{i=w}^n log(1+ e^{-y_i w^T x_i}) + \\lambda||w||^2$."
   ]
  },
  {
   "cell_type": "markdown",
   "id": "17454ba5",
   "metadata": {},
   "source": [
    "4) Prove that the objective function $J_{logistic}$ is convex."
   ]
  },
  {
   "cell_type": "markdown",
   "id": "08b53f85",
   "metadata": {},
   "source": [
    "We have already proven that both the logistic objective and $\\lambda||w||^2$ are convex. Given that the composition of two convex functions is convex, we conclude that $J_{logistic}$ is convex."
   ]
  },
  {
   "cell_type": "markdown",
   "id": "c15cb15c",
   "metadata": {},
   "source": [
    "5) Complete the `f_objective` function in the skeleton code, which computes the objective function for $J_{logistic} (w)$."
   ]
  },
  {
   "cell_type": "code",
   "execution_count": 2,
   "id": "44e94a19",
   "metadata": {},
   "outputs": [],
   "source": [
    "def f_objective(theta, X, y, l2_param=1):\n",
    "    '''\n",
    "    Args:\n",
    "        theta: 1D numpy array of size num_features\n",
    "        X: 2D numpy array of size (num_instances, num_features)\n",
    "        y: 1D numpy array of size num_instances\n",
    "        l2_param: regularization parameter\n",
    "\n",
    "    Returns:\n",
    "        objective: scalar value of objective function\n",
    "    '''\n",
    "    loss = 0\n",
    "    for i in range(len(X)):\n",
    "        loss += np.logaddexp(0, -y[i]*np.dot(theta, X[i]))\n",
    "    return loss/len(X) + l2_param*np.dot(theta, theta)"
   ]
  },
  {
   "cell_type": "markdown",
   "id": "9acbb130",
   "metadata": {},
   "source": [
    "6) Complete the `fit_logistic_regression` function in the skeleton code using the `minimize` function from `scipy.optimize`. Use this function to train a model on the provided data. Make sure to take the appropriate preprocessing steps, such as standardizing the data and adding a column for the bias term."
   ]
  },
  {
   "cell_type": "code",
   "execution_count": 3,
   "id": "37517984",
   "metadata": {},
   "outputs": [],
   "source": [
    "def fit_logistic_reg(X, y, objective_function, l2_param=1):\n",
    "    '''\n",
    "    Args:\n",
    "        X: 2D numpy array of size (num_instances, num_features)\n",
    "        y: 1D numpy array of size num_instances\n",
    "        objective_function: function returning the value of the objective\n",
    "        l2_param: regularization parameter\n",
    "        \n",
    "    Returns:\n",
    "        optimal_theta: 1D numpy array of size num_features\n",
    "    '''\n",
    "    part_obj = partial(objective_function, X=X, y=y, l2_param=l2_param)\n",
    "    return minimize(part_obj, np.ones(X.shape[1])).x"
   ]
  },
  {
   "cell_type": "code",
   "execution_count": 4,
   "id": "77161c3b",
   "metadata": {},
   "outputs": [],
   "source": [
    "def load_data():\n",
    "    X_train = np.loadtxt('X_train.txt', dtype=float, encoding=None, delimiter=',')\n",
    "    X_test = np.loadtxt('X_val.txt', dtype=float, encoding=None, delimiter=',')\n",
    "    y_train = np.loadtxt('y_train.txt', dtype=float, encoding=None, delimiter=',').reshape(-1,1)\n",
    "    y_test = np.loadtxt('y_val.txt', dtype=float, encoding=None, delimiter=',').reshape(-1,1)\n",
    "    return X_train, X_test, y_train, y_test"
   ]
  },
  {
   "cell_type": "code",
   "execution_count": 5,
   "id": "15378313",
   "metadata": {},
   "outputs": [],
   "source": [
    "def preprocess_data(X_train, X_test, y_train, y_test):\n",
    "    X_train = stats.zscore(X_train, axis=1)\n",
    "    X_test = stats.zscore(X_test, axis=1)\n",
    "    X_train = np.concatenate((X_train, np.ones(len(X_train)).reshape(-1,1)), axis=1)\n",
    "    X_test = np.concatenate((X_test, np.ones(len(X_test)).reshape(-1,1)), axis=1)\n",
    "    y_train[y_train==0] = -1\n",
    "    y_test[y_test==0] = -1\n",
    "    return X_train, X_test, y_train, y_test"
   ]
  },
  {
   "cell_type": "code",
   "execution_count": 6,
   "id": "112f1cf5",
   "metadata": {},
   "outputs": [
    {
     "data": {
      "text/plain": [
       "array([-0.00308146, -0.00452418, -0.00506516,  0.13665768, -0.00890677,\n",
       "       -0.00511805, -0.00791663, -0.00385607, -0.00704975, -0.02800517,\n",
       "        0.00225178, -0.00864217,  0.00543885, -0.00809036, -0.00679931,\n",
       "       -0.00152705, -0.00629847, -0.01327318, -0.01021308, -0.01595948,\n",
       "        0.00439617])"
      ]
     },
     "execution_count": 6,
     "metadata": {},
     "output_type": "execute_result"
    }
   ],
   "source": [
    "X_train, X_test, y_train, y_test = load_data()\n",
    "X_train, X_test, y_train, y_test = preprocess_data(X_train, X_test, y_train, y_test)\n",
    "optimal_theta = fit_logistic_reg(X_train, y_train, f_objective, l2_param=1)\n",
    "optimal_theta"
   ]
  },
  {
   "cell_type": "markdown",
   "id": "9841028e",
   "metadata": {},
   "source": [
    "7) Find the $\\ell_2$ regularization parameter that minimizes the log-likelihood on the validation set. Plot the log-likelihood for different values of the regularization parameter."
   ]
  },
  {
   "cell_type": "code",
   "execution_count": 7,
   "id": "40df2721",
   "metadata": {},
   "outputs": [],
   "source": [
    "def log_likelihood(theta, X, y):\n",
    "    loss = 0\n",
    "    for i in range(len(X)):\n",
    "        loss += np.logaddexp(0, -y[i]*np.dot(theta, X[i]))\n",
    "    return -loss"
   ]
  },
  {
   "cell_type": "code",
   "execution_count": 8,
   "id": "75929e69",
   "metadata": {},
   "outputs": [],
   "source": [
    "reg_params = np.geomspace(0.0001, 1, 100)\n",
    "loss = []\n",
    "for i in range(len(reg_params)):\n",
    "    theta = fit_logistic_reg(X_train, y_train, f_objective, l2_param=reg_params[i])\n",
    "    loss.append(log_likelihood(theta, X_test, y_test))"
   ]
  },
  {
   "cell_type": "code",
   "execution_count": 9,
   "id": "7cbc782c",
   "metadata": {},
   "outputs": [
    {
     "name": "stdout",
     "output_type": "stream",
     "text": [
      "Optimal lambda: 0.02915053062825179\n"
     ]
    },
    {
     "data": {
      "image/png": "[encoded data removed]",
      "text/plain": [
       "<Figure size 576x360 with 1 Axes>"
      ]
     },
     "metadata": {
      "needs_background": "light"
     },
     "output_type": "display_data"
    }
   ],
   "source": [
    "print('Optimal lambda:', float(reg_params[np.argmax(loss)]))\n",
    "plt.figure(figsize=(8,5))\n",
    "plt.plot(reg_params, loss, color='dodgerblue')\n",
    "plt.ylabel('loss')\n",
    "plt.xlabel('lambda')\n",
    "plt.xscale('log')\n",
    "plt.show()"
   ]
  },
  {
   "cell_type": "markdown",
   "id": "1d8c964b",
   "metadata": {},
   "source": [
    "8) It seems reasonable to interpret the prediction $f(x)=\\phi(w^Tx)=\\frac{1}{(1+e^{−w^Tx})}$ as the probability that $y = 1$, for a randomly drawn pair $(x, y)$. Since we only have a finite sample (and we are regularizing, which will bias things a bit) there is a question of how well “calibrated” our predicted probabilities are. Roughly speaking, we say $f(x)$ is well calibrated if we look at all examples $(x,y)$ for which $f(x) ≈ 0.7$ and we find that close to 70 percent of those examples have $y = 1$, as predicted... and then we repeat that for all predicted probabilities in $(0, 1$). To see how well-calibrated our predicted probabilities are, break the predictions on the validation set into groups based on the predicted probability (you can play with the size of the groups to get a result you think is informative). For each group, examine the percentage of positive labels. You can make a table or graph. Summarize the results."
   ]
  },
  {
   "cell_type": "code",
   "execution_count": 10,
   "id": "2f3f4c92",
   "metadata": {},
   "outputs": [],
   "source": [
    "optimal_theta = fit_logistic_reg(X_train, y_train, f_objective, l2_param=0.029)\n",
    "pred = np.dot(X_test, optimal_theta)\n",
    "for i in range(len(pred)):\n",
    "    pred[i] = 1/(1 + np.exp(-pred[i]))\n",
    "pred = minmax_scale(pred)\n",
    "frac_pos, mean_pred = calibration_curve(y_test, pred, n_bins=10)"
   ]
  },
  {
   "cell_type": "code",
   "execution_count": 11,
   "id": "c4c80f82",
   "metadata": {},
   "outputs": [
    {
     "data": {
      "image/png": "[encoded data removed]",
      "text/plain": [
       "<Figure size 576x360 with 1 Axes>"
      ]
     },
     "metadata": {
      "needs_background": "light"
     },
     "output_type": "display_data"
    }
   ],
   "source": [
    "plt.figure(figsize=(8,5))\n",
    "plt.plot([0,1], [0,1], ls='--', lw=1, color='k', label='perfect calibration')\n",
    "plt.plot(mean_pred, frac_pos, color='dodgerblue', label='logistic regression with L2 regularization')\n",
    "plt.xlim([0,1])\n",
    "plt.ylim([0,1])\n",
    "plt.xlabel('mean predicted probability')\n",
    "plt.ylabel('fraction of positives')\n",
    "plt.legend()\n",
    "plt.show()"
   ]
  },
  {
   "cell_type": "markdown",
   "id": "c9acec66",
   "metadata": {},
   "source": [
    "### 2) Coin flipping with partial observability"
   ]
  },
  {
   "cell_type": "markdown",
   "id": "c2b9f631",
   "metadata": {},
   "source": [
    "Consider flipping a biased coin where $p(z=H | \\theta_1) = \\theta_1$. However, we cannot directly observe the result $z$. Instead, someone reports the results to us, which we denote by $x$. Further there is a chance that the result is reported incorrectly if it's a head. Specifically, we have $p(x=H|z=H,\\theta_2)=\\theta_2$ and $p(x=T|z=T)=1$."
   ]
  },
  {
   "cell_type": "markdown",
   "id": "0f03cc07",
   "metadata": {},
   "source": [
    "9) Show that $p(x=H | \\theta_1, \\theta_2) =  \\theta_1 \\theta_2$."
   ]
  },
  {
   "cell_type": "markdown",
   "id": "385a1766",
   "metadata": {},
   "source": [
    "$P(x=H|\\theta_1,\\theta_2)= P(z=H|\\theta_1)P(x=H|z=H,\\theta_2)+P(z=T|\\theta_1)P(x=H|z=T,\\theta_2)= \\theta_1\\theta_2+(1-\\theta_1)*0= \\theta_1\\theta_2$."
   ]
  },
  {
   "cell_type": "markdown",
   "id": "cc3b619a",
   "metadata": {},
   "source": [
    "10) Given a set of reported results $D_r$ of size $N_r$, where the number of heads is $n_h$ and the number of tails is $n_t$, what is the likelihood of $D_r$ as a function of $\\theta_1$ and $\\theta_2$."
   ]
  },
  {
   "cell_type": "markdown",
   "id": "34df5b57",
   "metadata": {},
   "source": [
    "$p(x=H | \\theta_1, \\theta_2) =  \\theta_1 \\theta_2$\n",
    "\n",
    "$p(x=T | \\theta_1, \\theta_2) =  1 - \\theta_1 \\theta_2$\n",
    "\n",
    "$P(D_r|\\theta_1,\\theta_2)=\\prod_{i=1}^{N_r}P(x=X|z=Z)P(z=Z) = (\\theta_1\\theta_2)^{n_h}(1-\\theta_1\\theta_2)^{n_t}$"
   ]
  },
  {
   "cell_type": "markdown",
   "id": "528c5260",
   "metadata": {},
   "source": [
    "11) Can we estimate $\\theta_1$ and $\\theta_2$ using MLE? Explain your judgment."
   ]
  },
  {
   "cell_type": "markdown",
   "id": "34b5f8ca",
   "metadata": {},
   "source": [
    "No, because the likelihood we observe will not allow us to estimate $\\theta_1$ and $\\theta_2$. The partial derivatives are not solvable for a single parameter. We cannot use MLE to estimate $\\theta_1$ and $\\theta_2$."
   ]
  }
 ],
 "metadata": {
  "kernelspec": {
   "display_name": "Python 3 (ipykernel)",
   "language": "python",
   "name": "python3"
  },
  "language_info": {
   "codemirror_mode": {
    "name": "ipython",
    "version": 3
   },
   "file_extension": ".py",
   "mimetype": "text/x-python",
   "name": "python",
   "nbconvert_exporter": "python",
   "pygments_lexer": "ipython3",
   "version": "3.9.10"
  }
 },
 "nbformat": 4,
 "nbformat_minor": 5
}
