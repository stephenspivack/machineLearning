{
 "cells": [
  {
   "cell_type": "markdown",
   "id": "618c807f",
   "metadata": {},
   "source": [
    "NYU Center for Data Science\n",
    "\n",
    "DS-GA 1003 Machine Learning\n",
    "\n",
    "HW5 - SGD for Multiclass Linear SVM\n",
    "\n",
    "Stephen Spivack (ss7726@nyu.edu)"
   ]
  },
  {
   "cell_type": "code",
   "execution_count": 1,
   "id": "2dc8697b",
   "metadata": {},
   "outputs": [],
   "source": [
    "import numpy as np\n",
    "import matplotlib.pyplot as plt\n",
    "from sklearn.base import BaseEstimator, ClassifierMixin, clone\n",
    "from sklearn import metrics\n",
    "from sklearn import svm\n",
    "%matplotlib inline"
   ]
  },
  {
   "cell_type": "markdown",
   "id": "b72c2a29",
   "metadata": {},
   "source": [
    "### 1) Bayesian Modeling"
   ]
  },
  {
   "cell_type": "markdown",
   "id": "b7574d1a",
   "metadata": {},
   "source": [
    "#### Bayesian Logistic Regression with Gaussian Priors"
   ]
  },
  {
   "cell_type": "markdown",
   "id": "34114846",
   "metadata": {},
   "source": [
    "This question analyzes logistic regression in the Bayesian setting, where we introduce a prior $p(w)$ on $w \\in \\mathbb{R}^d$. Consider a binary classification setting with input space $X = \\mathbb{R}^d$, outcome space $y_{\\pm} = \\{-1,1\\}$, and a dataset $D = ((x^1, y^1), ..., (n^n, y^n))$."
   ]
  },
  {
   "cell_type": "markdown",
   "id": "4bd0221a",
   "metadata": {},
   "source": [
    "1) Give an expression for the posterior density $p(w | D)$ in terms of the negative log-likelihood\n",
    "function $NLL_D(w)$ and the prior density $p(w)$ (up to a proportionality constant is fine)."
   ]
  },
  {
   "cell_type": "markdown",
   "id": "ac3cc8da",
   "metadata": {},
   "source": [
    "$NLL_D(w) = -\\sum_{i=1}^n y'_i log(f(w^T x_i)) + (1-y'_i) log(1-f(w^T x_i))$\n",
    "\n",
    "$p(w|D) = \\frac{p(D|w)p(w)}{p(D)} = \\frac{e^{-NLL_D(w)}p(w)}{p(D)}$"
   ]
  },
  {
   "cell_type": "markdown",
   "id": "03fb1f87",
   "metadata": {},
   "source": [
    "2) Suppose we take a prior on $w$ of the form $w ∼ N (0, \\Sigma)$, that is in the Gaussian family. Is\n",
    "this a conjugate prior to the likelihood given by logistic regression?"
   ]
  },
  {
   "cell_type": "markdown",
   "id": "8c21d30a",
   "metadata": {},
   "source": [
    "No, a Gaussian prior on $w$ is not a conjugate prior to the likelihood given by logistic regression. In logistic regression, the likelihood function is a product of sigmoid functions.  Therefore, the posterior distribution will not be Gaussian even if we use a Gaussian prior on $w$."
   ]
  },
  {
   "cell_type": "markdown",
   "id": "af10f410",
   "metadata": {},
   "source": [
    "3) Show that there exist a covariance matrix $\\Sigma$ such that MAP (maximum a posteriori) estimate for $w$ after observing data $D$ is the same as the minimizer of the regularized logistic regression function defined in Regularized Logistic Regression paragraph above, and give its value."
   ]
  },
  {
   "cell_type": "markdown",
   "id": "4b36497d",
   "metadata": {},
   "source": [
    "$p(w|D) \\propto p(D|w)p(w)$\n",
    "\n",
    "$-log(p(w|D)) \\propto -\\sum_{i=1}^n [y_i' log(f(w^T x_i)) + (1-y_i') log(1 - f(w^T x_i))] - log(p(w))$\n",
    "\n",
    "$log(p(w)) \\propto -\\frac{1}{2} w^T \\Sigma^{-1} w$\n",
    "\n",
    "$\\Sigma = \\frac{1}{2n\\lambda}$"
   ]
  },
  {
   "cell_type": "markdown",
   "id": "839b22ab",
   "metadata": {},
   "source": [
    "4) In the Bayesian approach, the prior should reflect your beliefs about the parameters before seeing the data and, in particular, should be independent on the eventual size of your dataset. Imagine choosing a prior distribution $w ∼ N(0,I)$. For a dataset $D$ of size $n$, how should you choose $\\lambda$ in our regularized logistic regression objective function so that the ERM is equal to the mode of the posterior distribution of w (i.e. is equal to the MAP estimator)."
   ]
  },
  {
   "cell_type": "markdown",
   "id": "2fb9398a",
   "metadata": {},
   "source": [
    "For $\\Sigma = I$, set $\\frac{1}{2n\\lambda} = 1$ so that $\\lambda = \\frac{1}{2n}$."
   ]
  },
  {
   "cell_type": "markdown",
   "id": "0368aff5",
   "metadata": {},
   "source": [
    "#### Coin Flipping with Partial Observability"
   ]
  },
  {
   "cell_type": "markdown",
   "id": "a6b0bf99",
   "metadata": {},
   "source": [
    "Consider flipping a biased coin where $p(z = H|\\theta_1) = \\theta_1$. However, we cannot directly observe the result $z$. Instead, someone reports the result to us, which we denote by $x$. Further, there is a chance that the result is reported incorrectly if it’s a head. Specifically, we have $p(x=H|z=H,\\theta_2)=\\theta_2$ and $p(x=T|z=T)=1$."
   ]
  },
  {
   "cell_type": "markdown",
   "id": "3e3e075c",
   "metadata": {},
   "source": [
    "5) We additionally obtained a set of clean results $D_c$ of size $N_c$, where $x$ is directly observed without the reporter in the middle. Given that there are $c_h$ heads and $c_t$ tails, estimate $\\theta_1$ and $\\theta_2$ by MLE taking the two data sets into account. Note that the likelihood is $L(\\theta_1, \\theta_2) = p(D_r, D_c | \\theta_1, \\theta_2)$."
   ]
  },
  {
   "cell_type": "markdown",
   "id": "57ce94ef",
   "metadata": {},
   "source": [
    "$L(D_c | \\theta_1) = c_h log(\\theta_1) + c_t log(1 - \\theta_1)$\n",
    "\n",
    "$\\frac{\\partial}{\\partial \\theta_1} L(D_c | \\theta_1) = \\frac{c_h}{\\theta_1} - \\frac{c_t}{1 - \\theta_1} = 0$\n",
    "\n",
    "$\\theta_1 = \\frac{c_h}{c_h + c_t}$\n",
    "\n",
    "$L(D_r | \\theta_2) = n_h log(\\theta_1) + n_h log(\\theta_2) + n_t log(1 - \\theta_1 \\theta_2)$\n",
    "\n",
    "$\\frac{\\partial}{\\partial \\theta_1} L(D_r | \\theta_2) = \\frac{n_h}{\\theta_2} - \\frac{\\theta_1 n_t}{1 - \\theta_1 \\theta_2} = 0$\n",
    "\n",
    "$\\theta_2 = \\frac{n_h(c_h+c_t)}{c_h (n_t+n_h)}$"
   ]
  },
  {
   "cell_type": "markdown",
   "id": "64d85cf3",
   "metadata": {},
   "source": [
    "6) Since the clean results are expensive, we only have a small number of those and we are worried that we may overfit the data. To mitigate overfitting we can use a prior distribution on $\\theta_1$ if available. Let’s imagine that an oracle gave us the prior $p(\\theta_1) = Beta(h, t)$. Derive the MAP estimates for $\\theta_1$ and $\\theta_2$."
   ]
  },
  {
   "cell_type": "markdown",
   "id": "7a833862",
   "metadata": {},
   "source": [
    "$p(\\theta_1 | D_c) \\propto p(\\theta_1) p(D_c | \\theta_1) = \\theta^{h-1+n_t} (1-\\theta_1)^{t-1+c_t} = (h - 1 + c_h)log(\\theta_1) (t-1+c_t) log(1 - \\theta_1)$\n",
    "\n",
    "$\\theta_1 = \\frac{h-1+c_h}{h+t+c_h+c_t-2}$\n",
    "\n",
    "We can use $\\ell(D_r | \\theta_2)$ from the previous problem to show that $\\theta_2 = \\frac{n_h(h+t+c_h+c_t-2)}{(h-1+c_h)(n_h+n_t)}$"
   ]
  },
  {
   "cell_type": "markdown",
   "id": "ff56719f",
   "metadata": {},
   "source": [
    "### 2) Derivation for multi-class modeling"
   ]
  },
  {
   "cell_type": "markdown",
   "id": "9b9486b8",
   "metadata": {},
   "source": [
    "Suppose our output space and our action space are given as follows: $y = A = \\{1, ..., k\\}$. \n",
    "\n",
    "Given a non-negative class-sensitive loss function $\\Delta : y \\times A \\rightarrow [0, \\infty)$ and a class-sensitive feature mapping $\\Psi : X \\times y \\rightarrow \\mathbb{R}^d$.\n",
    "\n",
    "Our prediction function $f: X \\rightarrow y$ is given by $f_w (x) = argmax_{y \\in Y} \\langle w, \\Psi(x,y)\\rangle$.\n",
    "\n",
    "For training data $(x_1, y_1), ... (x_n, y_n) \\in X \\times Y$, let $J(w)$ be the $\\ell_2$-regularized empirical risk function for the multiclass hinge loss. We can write this as $J(w) = \\lambda ||w||^2 + \\frac{1}{n} \\sum_{i=1}^n max_{y \\in Y} [\\Delta(y_i,y) + \\langle \\Psi(x_i,y)-\\Psi(x_i,y_i)\\rangle]$ for some $\\lambda > 0$."
   ]
  },
  {
   "cell_type": "markdown",
   "id": "29cf67b2",
   "metadata": {},
   "source": [
    "7) Show that $J(w)$ is a convex function of $w$."
   ]
  },
  {
   "cell_type": "markdown",
   "id": "0c4de121",
   "metadata": {},
   "source": [
    "In a previous homework we have shown that $\\lambda ||w||^2$ is convex for $\\lambda > 0$.\n",
    "\n",
    "$max_{y \\in Y} [\\Delta(y_i,y) + \\langle \\Psi(x_i,y)-\\Psi(x_i,y_i)\\rangle]$ can be rewritten as an affine function such that $\\Delta(y_i,y)$ is a constant and for the remaining we have $w^T (\\Psi(x_i,y') - \\Psi(x_i, y_i))$. \n",
    "\n",
    "Since affine functions are convex and the sum of convex functions over the same support are also convex, we conclude that $J(w)$ is convex."
   ]
  },
  {
   "cell_type": "markdown",
   "id": "5f02f59e",
   "metadata": {},
   "source": [
    "8) Since $J(w)$ is convex, it has a subgradient at every point. Give an expression for a subgradient of $J(w)$. "
   ]
  },
  {
   "cell_type": "markdown",
   "id": "e10aff90",
   "metadata": {},
   "source": [
    "$\\nabla J(w) = 2 \\lambda w - \\frac{1}{n} \\sum_{i=1}^n \\Psi(X_i, y') - \\Psi(x_i, y_i))$ for $y_i \\neq y$.\n",
    "\n",
    "$\\nabla J(w) = 2 \\lambda w$ for $y_i = y$."
   ]
  },
  {
   "cell_type": "markdown",
   "id": "671f3345",
   "metadata": {},
   "source": [
    "9) Give an expression for the stochastic subgradient based on the point $(x_i,y_i)$."
   ]
  },
  {
   "cell_type": "markdown",
   "id": "d95663ac",
   "metadata": {},
   "source": [
    "$\\nabla J(w) = 2 \\lambda w - \\Psi(X_i, y') - \\Psi(x_i, y_i)$"
   ]
  },
  {
   "cell_type": "markdown",
   "id": "8dfb768b",
   "metadata": {},
   "source": [
    "10) Give an expression for a minibatch subgradient, based on the points $(x_i, y_i), ..., (x_{i+m-1}, y_{i+m-1})$."
   ]
  },
  {
   "cell_type": "markdown",
   "id": "0ebf4fa9",
   "metadata": {},
   "source": [
    "$\\nabla J(w) = 2 \\lambda w - \\frac{1}{n} \\sum_{i=1}^n \\Psi(x_i, y') - \\Psi(x_i, y_i))$, where $n = i + m - 1$."
   ]
  },
  {
   "cell_type": "markdown",
   "id": "86b07bdd",
   "metadata": {},
   "source": [
    "#### Hinge loss is a special case of generalized hinge loss"
   ]
  },
  {
   "cell_type": "markdown",
   "id": "385de7b2",
   "metadata": {},
   "source": [
    "Let $Y = \\{-1,1\\}$. Let $\\Delta (y, \\hat{y}) = \\mathbb{1}y \\neq \\hat{y}$. If $g(x)$ is the score function in our binary classification setting, then define our compatibility function as $h(x,1) = g(x)/2$ and $h(x, -1) = -g(x)/2$."
   ]
  },
  {
   "cell_type": "markdown",
   "id": "2c445ff2",
   "metadata": {},
   "source": [
    "11) Show that for this choice of $h$, the multiclass hinge loss reduces to hinge loss:\n",
    "\n",
    "$\\ell(h, (x,y)) = max_{y' \\in Y} [\\Delta(y, y')) + h(x,y') - h(x,y)] = max\\{0, 1 - yg(x)\\}$"
   ]
  },
  {
   "cell_type": "markdown",
   "id": "e5d03c9b",
   "metadata": {},
   "source": [
    "When $y=1$, $max_{y' \\in Y} [1+h(x,-1)-h(x,1)] = max\\{0, 1-yg(x)\\}$\n",
    "\n",
    "When $y=-1$, $max_{y' \\in Y} [1+h(x,1)-h(x,-1)] = max\\{0, 1-yg(x)\\}$"
   ]
  },
  {
   "cell_type": "markdown",
   "id": "0121c5bc",
   "metadata": {},
   "source": [
    "### 3) Implementation"
   ]
  },
  {
   "cell_type": "markdown",
   "id": "22616fce",
   "metadata": {},
   "source": [
    "#### One-vs-All (also known as One-vs-Rest)"
   ]
  },
  {
   "cell_type": "markdown",
   "id": "b823ad17",
   "metadata": {},
   "source": [
    "First we will implement one-vs-all multiclass classification. Our approach will assume we have a binary base classifier that returns a score, and we will predict the class that has the highest score."
   ]
  },
  {
   "cell_type": "markdown",
   "id": "674c6192",
   "metadata": {},
   "source": [
    "12) Complete the methods `fit`, `decision_function` and `predict` from `OneVsAllClassifier` in the skeleton code. Following the `OneVsAllClassifier` code is a cell that extracts the results of the fit and plots the decision region. You can have a look at it first to make sure you understand how the class will be used."
   ]
  },
  {
   "cell_type": "markdown",
   "id": "e81b956b",
   "metadata": {},
   "source": [
    "Create the training data"
   ]
  },
  {
   "cell_type": "code",
   "execution_count": 2,
   "id": "bb8c5878",
   "metadata": {},
   "outputs": [],
   "source": [
    "try:\n",
    "    from sklearn.datasets.samples_generator import make_blobs\n",
    "except:\n",
    "    from sklearn.datasets import make_blobs"
   ]
  },
  {
   "cell_type": "code",
   "execution_count": 3,
   "id": "e24beca4",
   "metadata": {},
   "outputs": [
    {
     "data": {
      "image/png": "[encoded data removed]",
      "text/plain": [
       "<Figure size 432x288 with 1 Axes>"
      ]
     },
     "metadata": {
      "needs_background": "light"
     },
     "output_type": "display_data"
    }
   ],
   "source": [
    "np.random.seed(2)\n",
    "X, y = make_blobs(n_samples=300,cluster_std=.25, centers=np.array([(-3,1),(0,2),(3,1)]))\n",
    "plt.scatter(X[:, 0], X[:, 1], c=y, s=50)\n",
    "plt.show()"
   ]
  },
  {
   "cell_type": "code",
   "execution_count": 4,
   "id": "984af913",
   "metadata": {},
   "outputs": [],
   "source": [
    "class OneVsAllClassifier(BaseEstimator, ClassifierMixin):  \n",
    "    \"\"\"\n",
    "    One-vs-all classifier\n",
    "    We assume that the classes will be the integers 0,..,(n_classes-1).\n",
    "    We assume that the estimator provided to the class, after fitting, has a \"decision_function\" that \n",
    "    returns the score for the positive class.\n",
    "    \"\"\"\n",
    "    def __init__(self, estimator, n_classes):      \n",
    "        \"\"\"\n",
    "        Constructed with the number of classes and an estimator (e.g. an\n",
    "        SVM estimator from sklearn)\n",
    "        @param estimator : binary base classifier used\n",
    "        @param n_classes : number of classes\n",
    "        \"\"\"\n",
    "        self.n_classes = n_classes \n",
    "        self.estimators = [clone(estimator) for _ in range(n_classes)]\n",
    "        self.fitted = False\n",
    "\n",
    "    def fit(self, X, y=None):\n",
    "        \"\"\"\n",
    "        This should fit one classifier for each class.\n",
    "        self.estimators[i] should be fit on class i vs rest\n",
    "        @param X: array-like, shape = [n_samples,n_features], input data\n",
    "        @param y: array-like, shape = [n_samples,] class labels\n",
    "        @return returns self\n",
    "        \"\"\"\n",
    "        for i in range(self.n_classes):\n",
    "            self.estimators[i].fit(X, np.where(y==i, 1, 0))\n",
    "        self.fitted = True  \n",
    "        return self   \n",
    "\n",
    "    def decision_function(self, X):\n",
    "        \"\"\"\n",
    "        Returns the score of each input for each class. Assumes\n",
    "        that the given estimator also implements the decision_function method (which sklearn SVMs do), \n",
    "        and that fit has been called.\n",
    "        @param X : array-like, shape = [n_samples, n_features] input data\n",
    "        @return array-like, shape = [n_samples, n_classes]\n",
    "        \"\"\"\n",
    "        if not self.fitted:\n",
    "            raise RuntimeError(\"You must train classifer before predicting data.\")\n",
    "\n",
    "        if not hasattr(self.estimators[0], \"decision_function\"):\n",
    "            raise AttributeError(\n",
    "                \"Base estimator doesn't have a decision_function attribute.\")\n",
    "        scores = np.zeros([len(X), self.n_classes])\n",
    "        for i in range(self.n_classes):\n",
    "            scores[:,i] = self.estimators[i].decision_function(X)\n",
    "        return scores\n",
    "    \n",
    "    def predict(self, X):\n",
    "        \"\"\"\n",
    "        Predict the class with the highest score.\n",
    "        @param X: array-like, shape = [n_samples,n_features] input data\n",
    "        @returns array-like, shape = [n_samples,] the predicted classes for each input\n",
    "        \"\"\"\n",
    "        return np.argmax(self.decision_function(X) , axis=1)"
   ]
  },
  {
   "cell_type": "markdown",
   "id": "01ad4357",
   "metadata": {},
   "source": [
    "13) Include the results of the test cell in your submission."
   ]
  },
  {
   "cell_type": "code",
   "execution_count": 5,
   "id": "8fa0f1d3",
   "metadata": {},
   "outputs": [
    {
     "name": "stdout",
     "output_type": "stream",
     "text": [
      "Coeffs 0\n",
      "[[-1.05853334 -0.90294603]]\n",
      "Coeffs 1\n",
      "[[0.42121645 0.27171776]]\n",
      "Coeffs 2\n",
      "[[ 0.89164752 -0.82601734]]\n"
     ]
    },
    {
     "name": "stderr",
     "output_type": "stream",
     "text": [
      "/usr/local/lib/python3.9/site-packages/sklearn/svm/_base.py:1206: ConvergenceWarning: Liblinear failed to converge, increase the number of iterations.\n",
      "  warnings.warn(\n"
     ]
    },
    {
     "data": {
      "text/plain": [
       "array([[100,   0,   0],\n",
       "       [  0, 100,   0],\n",
       "       [  0,  11,  89]])"
      ]
     },
     "execution_count": 5,
     "metadata": {},
     "output_type": "execute_result"
    },
    {
     "data": {
      "image/png": "[encoded data removed]",
      "text/plain": [
       "<Figure size 432x288 with 1 Axes>"
      ]
     },
     "metadata": {
      "needs_background": "light"
     },
     "output_type": "display_data"
    }
   ],
   "source": [
    "#Here we test the OneVsAllClassifier\n",
    "svm_estimator = svm.LinearSVC(loss='hinge', fit_intercept=False, C=200)\n",
    "clf_onevsall = OneVsAllClassifier(svm_estimator, n_classes=3)\n",
    "clf_onevsall.fit(X,y)\n",
    "\n",
    "for i in range(3) :\n",
    "    print(\"Coeffs %d\"%i)\n",
    "    print(clf_onevsall.estimators[i].coef_) #Will fail if you haven't implemented fit yet\n",
    "\n",
    "# create a mesh to plot in\n",
    "h = .02  # step size in the mesh\n",
    "x_min, x_max = min(X[:,0])-3,max(X[:,0])+3\n",
    "y_min, y_max = min(X[:,1])-3,max(X[:,1])+3\n",
    "xx, yy = np.meshgrid(np.arange(x_min, x_max, h),\n",
    "                     np.arange(y_min, y_max, h))\n",
    "mesh_input = np.c_[xx.ravel(), yy.ravel()]\n",
    "\n",
    "Z = clf_onevsall.predict(mesh_input)\n",
    "Z = Z.reshape(xx.shape)\n",
    "plt.contourf(xx, yy, Z, cmap=plt.cm.coolwarm, alpha=0.8)\n",
    "# Plot also the training points\n",
    "plt.scatter(X[:, 0], X[:, 1], c=y, cmap=plt.cm.coolwarm)\n",
    "\n",
    "metrics.confusion_matrix(y, clf_onevsall.predict(X))"
   ]
  },
  {
   "cell_type": "markdown",
   "id": "7fa335c7",
   "metadata": {},
   "source": [
    "#### Multiclass SVM"
   ]
  },
  {
   "cell_type": "markdown",
   "id": "40e62ae3",
   "metadata": {},
   "source": [
    "In this question, we will implement stochastic subgradient descent for the linear multiclass SVM, as described in class and in this problem set. We will use the class-sensitive feature mapping approach with the “multivector construction”, as described in the multiclass lecture."
   ]
  },
  {
   "cell_type": "markdown",
   "id": "62c929dd",
   "metadata": {},
   "source": [
    "14) Complete the function `featureMap` in the skeleton code."
   ]
  },
  {
   "cell_type": "code",
   "execution_count": 6,
   "id": "840af9dd",
   "metadata": {},
   "outputs": [],
   "source": [
    "def featureMap(X, y, num_classes):\n",
    "    '''\n",
    "    Computes the class-sensitive features.\n",
    "    @param X: array-like, shape = [n_samples,n_inFeatures] or [n_inFeatures,], input features for input data\n",
    "    @param y: a target class (in range 0,..,num_classes-1)\n",
    "    @return array-like, shape = [n_samples,n_outFeatures], the class sensitive features for class y\n",
    "    '''\n",
    "    X,y = X.reshape(1,-1), np.array([y])\n",
    "    num_samples, num_inFeatures = (1,X.shape[0]) if len(X.shape) == 1 else (X.shape[0],X.shape[1])\n",
    "    X_features = np.zeros([num_samples, num_inFeatures*num_classes])\n",
    "    for i in range(num_samples):\n",
    "        for j in range(num_inFeatures):\n",
    "            X_features[i, y[i]*num_inFeatures+j] = X[i,j]\n",
    "    return X_features"
   ]
  },
  {
   "cell_type": "markdown",
   "id": "f0b83954",
   "metadata": {},
   "source": [
    "15) Complete the function `sgd`."
   ]
  },
  {
   "cell_type": "code",
   "execution_count": 7,
   "id": "f8591574",
   "metadata": {},
   "outputs": [],
   "source": [
    "def sgd(X, y, num_outFeatures, subgd, eta=0.1, T=10000):\n",
    "    '''\n",
    "    Runs subgradient descent, and outputs resulting parameter vector.\n",
    "    @param X: array-like, shape = [n_samples,n_features], input training data \n",
    "    @param y: array-like, shape = [n_samples,], class labels\n",
    "    @param num_outFeatures: number of class-sensitive features\n",
    "    @param subgd: function taking x,y,w and giving subgradient of objective\n",
    "    @param eta: learning rate for SGD\n",
    "    @param T: maximum number of iterations\n",
    "    @return: vector of weights\n",
    "    '''\n",
    "    w = np.zeros(num_outFeatures)\n",
    "    for i in range(T):\n",
    "        idx = np.random.choice(len(X))\n",
    "        w -= eta*subgd(X[idx, :], y[idx], w)[0]     \n",
    "    return w"
   ]
  },
  {
   "cell_type": "markdown",
   "id": "a25cb92c",
   "metadata": {},
   "source": [
    "16) Complete the methods `subgradient`, `decision_function` and `predict` from the class `MulticlassSVM`."
   ]
  },
  {
   "cell_type": "code",
   "execution_count": 8,
   "id": "00e6d794",
   "metadata": {},
   "outputs": [],
   "source": [
    "def zeroOne(y,a) :\n",
    "    '''\n",
    "    Computes the zero-one loss.\n",
    "    @param y: output class\n",
    "    @param a: predicted class\n",
    "    @return 1 if different, 0 if same\n",
    "    '''\n",
    "    return int(y != a)\n",
    "\n",
    "class MulticlassSVM(BaseEstimator, ClassifierMixin):\n",
    "    '''\n",
    "    Implements a Multiclass SVM estimator.\n",
    "    '''\n",
    "    def __init__(self, num_outFeatures, lam=1.0, num_classes=3, Delta=zeroOne, Psi=featureMap):       \n",
    "        '''\n",
    "        Creates a MulticlassSVM estimator.\n",
    "        @param num_outFeatures: number of class-sensitive features produced by Psi\n",
    "        @param lam: l2 regularization parameter\n",
    "        @param num_classes: number of classes (assumed numbered 0,..,num_classes-1)\n",
    "        @param Delta: class-sensitive loss function taking two arguments (i.e., target margin)\n",
    "        @param Psi: class-sensitive feature map taking two arguments\n",
    "        '''\n",
    "        self.num_outFeatures = num_outFeatures\n",
    "        self.lam = lam\n",
    "        self.num_classes = num_classes\n",
    "        self.Delta = Delta\n",
    "        self.Psi = lambda X,y : Psi(X,y,num_classes)\n",
    "        self.fitted = False\n",
    "    \n",
    "    def subgradient(self,x,y,w):\n",
    "        '''\n",
    "        Computes the subgradient at a given data point x,y\n",
    "        @param x: sample input\n",
    "        @param y: sample class\n",
    "        @param w: parameter vector\n",
    "        @return returns subgradient vector at given x,y,w\n",
    "        '''\n",
    "        margin = np.array([self.Delta(y,i) for i in range(self.num_classes)])\n",
    "        score = [np.dot(w ,self.Psi(x,i)[0]) - np.dot(w, self.Psi(x,y)[0]) for i in range(self.num_classes)]\n",
    "        y_hat = np.argmax(margin + score)\n",
    "        return 2*self.lam*w + self.Psi(x,y_hat) - self.Psi(x,y)\n",
    "        \n",
    "    def fit(self,X,y,eta=0.1,T=10000):\n",
    "        '''\n",
    "        Fits multiclass SVM\n",
    "        @param X: array-like, shape = [num_samples,num_inFeatures], input data\n",
    "        @param y: array-like, shape = [num_samples,], input classes\n",
    "        @param eta: learning rate for SGD\n",
    "        @param T: maximum number of iterations\n",
    "        @return returns self\n",
    "        '''\n",
    "        self.coef_ = sgd(X,y,self.num_outFeatures,self.subgradient,eta,T)\n",
    "        self.fitted = True\n",
    "        return self\n",
    "    \n",
    "    def decision_function(self, X):\n",
    "        '''\n",
    "        Returns the score on each input for each class. Assumes\n",
    "        that fit has been called.\n",
    "        @param X : array-like, shape = [n_samples, n_inFeatures]\n",
    "        @return array-like, shape = [n_samples, n_classes] giving scores for each sample,class pairing\n",
    "        '''\n",
    "        if not self.fitted:\n",
    "            raise RuntimeError(\"You must train classifer before predicting data.\")\n",
    "        scores = np.zeros([len(X), self.num_classes])\n",
    "        for i in range(len(X)):\n",
    "            scores[i] = np.array([np.dot(self.coef_,est.Psi(X[i],j)[0]) for j in range(self.num_classes)])\n",
    "        return(scores)\n",
    "            \n",
    "    def predict(self, X):\n",
    "        '''\n",
    "        Predict the class with the highest score.\n",
    "        @param X: array-like, shape = [n_samples, n_inFeatures], input data to predict\n",
    "        @return array-like, shape = [n_samples,], class labels predicted for each data point\n",
    "        '''\n",
    "        return(np.argmax(self.decision_function(X), axis=1))"
   ]
  },
  {
   "cell_type": "markdown",
   "id": "c6766adb",
   "metadata": {},
   "source": [
    "17) Following the multiclass SVM implementation, we have included another block of test code. Make sure to include the results from these tests in your assignment, along with your code."
   ]
  },
  {
   "cell_type": "code",
   "execution_count": 9,
   "id": "6684e97a",
   "metadata": {},
   "outputs": [
    {
     "name": "stdout",
     "output_type": "stream",
     "text": [
      "w:\n",
      "[-0.35659563 -0.04634579 -0.00120551  0.07900731  0.35780114 -0.03266152]\n"
     ]
    },
    {
     "data": {
      "text/plain": [
       "array([[100,   0,   0],\n",
       "       [  0, 100,   0],\n",
       "       [  0,   0, 100]])"
      ]
     },
     "execution_count": 9,
     "metadata": {},
     "output_type": "execute_result"
    },
    {
     "data": {
      "image/png": "[encoded data removed]",
      "text/plain": [
       "<Figure size 432x288 with 1 Axes>"
      ]
     },
     "metadata": {
      "needs_background": "light"
     },
     "output_type": "display_data"
    }
   ],
   "source": [
    "est = MulticlassSVM(6,lam=1)\n",
    "est.fit(X,y,eta=0.001)\n",
    "print(\"w:\")\n",
    "print(est.coef_)\n",
    "Z = est.predict(mesh_input)\n",
    "Z = Z.reshape(xx.shape)\n",
    "plt.contourf(xx, yy, Z, cmap=plt.cm.coolwarm, alpha=0.8)\n",
    "plt.scatter(X[:, 0], X[:, 1], c=y, cmap=plt.cm.coolwarm)\n",
    "metrics.confusion_matrix(y, est.predict(X))"
   ]
  }
 ],
 "metadata": {
  "kernelspec": {
   "display_name": "Python 3 (ipykernel)",
   "language": "python",
   "name": "python3"
  },
  "language_info": {
   "codemirror_mode": {
    "name": "ipython",
    "version": 3
   },
   "file_extension": ".py",
   "mimetype": "text/x-python",
   "name": "python",
   "nbconvert_exporter": "python",
   "pygments_lexer": "ipython3",
   "version": "3.9.10"
  }
 },
 "nbformat": 4,
 "nbformat_minor": 5
}
